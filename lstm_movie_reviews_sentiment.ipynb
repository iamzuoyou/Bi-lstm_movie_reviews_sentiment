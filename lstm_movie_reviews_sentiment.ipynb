{
 "cells": [
  {
   "cell_type": "markdown",
   "metadata": {},
   "source": [
    "<h1 align=center>大数据基础与实践课程项目 </h1>"
   ]
  },
  {
   "cell_type": "markdown",
   "metadata": {},
   "source": [
    "<hr>\n",
    "<div><h1 align=center><font style=\"font-style:italic;\">IMDb电影评论情感分析</font></h1></div>\n",
    "<div><h3 align=center>作者：<font style=\"font-style:italic;\">蒋佐右 124120910084</font></h3></div>"
   ]
  },
  {
   "cell_type": "markdown",
   "metadata": {},
   "source": [
    "### 1. 项目概述\n",
    "本项目的任务是实现一个基于IMDb电影评论数据集的情感分析模型，使用LSTM（长短期记忆网络）来预测电影评论的情感倾向(postive/negative)。\n",
    "数据集较大，助教老师批改作业时参考本notebook的输出结果，但是建议用demo子文件夹下的demo_20.ipynb来检查运行（数据集共80条，为完整数据集的0.16%）。"
   ]
  },
  {
   "cell_type": "code",
   "execution_count": 64,
   "metadata": {},
   "outputs": [],
   "source": [
    "# # 安装库\n",
    "# !conda install numpy=1.26.4 pandas=2.2.3 matplotlib=3.9.2 scikit-learn=1.5.1 seaborn=0.13.2 gensim=4.3.3 jieba=0.42.1 wordcloud=1.9.3 tqdm=4.66.5 -y\n",
    "# !conda install pytorch=2.5.1 -c pytorch -y"
   ]
  },
  {
   "cell_type": "code",
   "execution_count": 65,
   "metadata": {},
   "outputs": [
    {
     "name": "stdout",
     "output_type": "stream",
     "text": [
      "# packages in environment at /root/miniconda3/envs/zuoyou:\n",
      "#\n",
      "# Name                    Version                   Build  Channel\n",
      "_libgcc_mutex             0.1                 conda_forge    conda-forge\n",
      "_openmp_mutex             4.5                       2_gnu    conda-forge\n",
      "asttokens                 3.0.0              pyhd8ed1ab_1    conda-forge\n",
      "bzip2                     1.0.8                h5eee18b_6    https://mirrors.tuna.tsinghua.edu.cn/anaconda/pkgs/main\n",
      "ca-certificates           2024.11.26           h06a4308_0    https://mirrors.tuna.tsinghua.edu.cn/anaconda/pkgs/main\n",
      "comm                      0.2.2              pyhd8ed1ab_1    conda-forge\n",
      "contourpy                 1.3.1                    pypi_0    pypi\n",
      "cycler                    0.12.1                   pypi_0    pypi\n",
      "debugpy                   1.6.7           py312h6a678d5_0    https://mirrors.tuna.tsinghua.edu.cn/anaconda/pkgs/main\n",
      "decorator                 5.1.1              pyhd8ed1ab_1    conda-forge\n",
      "exceptiongroup            1.2.2              pyhd8ed1ab_1    conda-forge\n",
      "executing                 2.1.0              pyhd8ed1ab_1    conda-forge\n",
      "expat                     2.6.3                h6a678d5_0    https://mirrors.tuna.tsinghua.edu.cn/anaconda/pkgs/main\n",
      "filelock                  3.16.1                   pypi_0    pypi\n",
      "fonttools                 4.55.2                   pypi_0    pypi\n",
      "fsspec                    2024.10.0                pypi_0    pypi\n",
      "gensim                    4.3.3                    pypi_0    pypi\n",
      "importlib-metadata        8.5.0              pyha770c72_1    conda-forge\n",
      "ipykernel                 6.29.5             pyh3099207_0    conda-forge\n",
      "ipython                   8.30.0             pyh707e725_0    conda-forge\n",
      "jedi                      0.19.2             pyhd8ed1ab_1    conda-forge\n",
      "jieba                     0.42.1                   pypi_0    pypi\n",
      "jinja2                    3.1.4                    pypi_0    pypi\n",
      "joblib                    1.4.2                    pypi_0    pypi\n",
      "jupyter_client            8.6.3              pyhd8ed1ab_1    conda-forge\n",
      "jupyter_core              5.7.2              pyh31011fe_1    conda-forge\n",
      "kiwisolver                1.4.7                    pypi_0    pypi\n",
      "krb5                      1.21.3               h143b758_0    https://mirrors.tuna.tsinghua.edu.cn/anaconda/pkgs/main\n",
      "ld_impl_linux-64          2.40                 h12ee557_0    https://mirrors.tuna.tsinghua.edu.cn/anaconda/pkgs/main\n",
      "libedit                   3.1.20230828         h5eee18b_0    https://mirrors.tuna.tsinghua.edu.cn/anaconda/pkgs/main\n",
      "libffi                    3.4.4                h6a678d5_1    https://mirrors.tuna.tsinghua.edu.cn/anaconda/pkgs/main\n",
      "libgcc                    14.2.0               h77fa898_1    conda-forge\n",
      "libgcc-ng                 14.2.0               h69a702a_1    conda-forge\n",
      "libgomp                   14.2.0               h77fa898_1    conda-forge\n",
      "libsodium                 1.0.20               h4ab18f5_0    conda-forge\n",
      "libstdcxx                 14.2.0               hc0a3c3a_1    conda-forge\n",
      "libstdcxx-ng              11.2.0               h1234567_1    https://mirrors.tuna.tsinghua.edu.cn/anaconda/pkgs/main\n",
      "libuuid                   1.41.5               h5eee18b_0    https://mirrors.tuna.tsinghua.edu.cn/anaconda/pkgs/main\n",
      "markupsafe                3.0.2                    pypi_0    pypi\n",
      "matplotlib                3.9.2                    pypi_0    pypi\n",
      "matplotlib-inline         0.1.7              pyhd8ed1ab_1    conda-forge\n",
      "mpmath                    1.3.0                    pypi_0    pypi\n",
      "ncurses                   6.4                  h6a678d5_0    https://mirrors.tuna.tsinghua.edu.cn/anaconda/pkgs/main\n",
      "nest-asyncio              1.6.0              pyhd8ed1ab_1    conda-forge\n",
      "networkx                  3.4.2                    pypi_0    pypi\n",
      "numpy                     1.26.4                   pypi_0    pypi\n",
      "nvidia-cublas-cu12        12.4.5.8                 pypi_0    pypi\n",
      "nvidia-cuda-cupti-cu12    12.4.127                 pypi_0    pypi\n",
      "nvidia-cuda-nvrtc-cu12    12.4.127                 pypi_0    pypi\n",
      "nvidia-cuda-runtime-cu12  12.4.127                 pypi_0    pypi\n",
      "nvidia-cudnn-cu12         9.1.0.70                 pypi_0    pypi\n",
      "nvidia-cufft-cu12         11.2.1.3                 pypi_0    pypi\n",
      "nvidia-curand-cu12        10.3.5.147               pypi_0    pypi\n",
      "nvidia-cusolver-cu12      11.6.1.9                 pypi_0    pypi\n",
      "nvidia-cusparse-cu12      12.3.1.170               pypi_0    pypi\n",
      "nvidia-nccl-cu12          2.21.5                   pypi_0    pypi\n",
      "nvidia-nvjitlink-cu12     12.4.127                 pypi_0    pypi\n",
      "nvidia-nvtx-cu12          12.4.127                 pypi_0    pypi\n",
      "openssl                   3.4.0                hb9d3cd8_0    conda-forge\n",
      "packaging                 24.2               pyhd8ed1ab_2    conda-forge\n",
      "pandas                    2.2.3                    pypi_0    pypi\n",
      "parso                     0.8.4              pyhd8ed1ab_1    conda-forge\n",
      "pexpect                   4.9.0              pyhd8ed1ab_1    conda-forge\n",
      "pickleshare               0.7.5           pyhd8ed1ab_1004    conda-forge\n",
      "pillow                    11.0.0                   pypi_0    pypi\n",
      "pip                       24.2            py312h06a4308_0    https://mirrors.tuna.tsinghua.edu.cn/anaconda/pkgs/main\n",
      "platformdirs              4.3.6              pyhd8ed1ab_1    conda-forge\n",
      "prompt-toolkit            3.0.48             pyha770c72_1    conda-forge\n",
      "psutil                    5.9.0           py312h5eee18b_0    https://mirrors.tuna.tsinghua.edu.cn/anaconda/pkgs/main\n",
      "ptyprocess                0.7.0              pyhd8ed1ab_1    conda-forge\n",
      "pure_eval                 0.2.3              pyhd8ed1ab_1    conda-forge\n",
      "pygments                  2.18.0             pyhd8ed1ab_1    conda-forge\n",
      "pyparsing                 3.2.0                    pypi_0    pypi\n",
      "python                    3.12.5               h5148396_1    https://mirrors.tuna.tsinghua.edu.cn/anaconda/pkgs/main\n",
      "python-dateutil           2.9.0.post0        pyhff2d567_1    conda-forge\n",
      "pytz                      2024.2                   pypi_0    pypi\n",
      "pyzmq                     25.1.2          py312h6a678d5_0    https://mirrors.tuna.tsinghua.edu.cn/anaconda/pkgs/main\n",
      "readline                  8.2                  h5eee18b_0    https://mirrors.tuna.tsinghua.edu.cn/anaconda/pkgs/main\n",
      "scikit-learn              1.5.1                    pypi_0    pypi\n",
      "scipy                     1.13.1                   pypi_0    pypi\n",
      "seaborn                   0.13.2                   pypi_0    pypi\n",
      "setuptools                75.1.0          py312h06a4308_0    https://mirrors.tuna.tsinghua.edu.cn/anaconda/pkgs/main\n",
      "six                       1.17.0             pyhd8ed1ab_0    conda-forge\n",
      "smart-open                7.0.5                    pypi_0    pypi\n",
      "sqlite                    3.45.3               h5eee18b_0    https://mirrors.tuna.tsinghua.edu.cn/anaconda/pkgs/main\n",
      "stack_data                0.6.3              pyhd8ed1ab_1    conda-forge\n",
      "sympy                     1.13.1                   pypi_0    pypi\n",
      "threadpoolctl             3.5.0                    pypi_0    pypi\n",
      "tk                        8.6.14               h39e8969_0    https://mirrors.tuna.tsinghua.edu.cn/anaconda/pkgs/main\n",
      "torch                     2.5.1                    pypi_0    pypi\n",
      "tornado                   6.4.1           py312h5eee18b_0    https://mirrors.tuna.tsinghua.edu.cn/anaconda/pkgs/main\n",
      "tqdm                      4.66.5                   pypi_0    pypi\n",
      "traitlets                 5.14.3             pyhd8ed1ab_1    conda-forge\n",
      "triton                    3.1.0                    pypi_0    pypi\n",
      "typing_extensions         4.12.2             pyha770c72_1    conda-forge\n",
      "tzdata                    2024.2                   pypi_0    pypi\n",
      "wcwidth                   0.2.13             pyhd8ed1ab_1    conda-forge\n",
      "wheel                     0.44.0          py312h06a4308_0    https://mirrors.tuna.tsinghua.edu.cn/anaconda/pkgs/main\n",
      "wordcloud                 1.9.3                    pypi_0    pypi\n",
      "wrapt                     1.17.0                   pypi_0    pypi\n",
      "xz                        5.4.6                h5eee18b_1    https://mirrors.tuna.tsinghua.edu.cn/anaconda/pkgs/main\n",
      "zeromq                    4.3.5                h3b0a872_7    conda-forge\n",
      "zipp                      3.21.0             pyhd8ed1ab_1    conda-forge\n",
      "zlib                      1.2.13               h5eee18b_1    https://mirrors.tuna.tsinghua.edu.cn/anaconda/pkgs/main\n",
      "\n",
      "Note: you may need to restart the kernel to use updated packages.\n"
     ]
    }
   ],
   "source": [
    "conda list"
   ]
  },
  {
   "cell_type": "code",
   "execution_count": 66,
   "metadata": {},
   "outputs": [
    {
     "name": "stdout",
     "output_type": "stream",
     "text": [
      "Wed Dec 11 01:38:12 2024       \n",
      "+-----------------------------------------------------------------------------------------+\n",
      "| NVIDIA-SMI 550.90.07              Driver Version: 550.90.07      CUDA Version: 12.4     |\n",
      "|-----------------------------------------+------------------------+----------------------+\n",
      "| GPU  Name                 Persistence-M | Bus-Id          Disp.A | Volatile Uncorr. ECC |\n",
      "| Fan  Temp   Perf          Pwr:Usage/Cap |           Memory-Usage | GPU-Util  Compute M. |\n",
      "|                                         |                        |               MIG M. |\n",
      "|=========================================+========================+======================|\n",
      "|   0  NVIDIA A100-PCIE-40GB          On  |   00000000:00:0A.0 Off |                  Off |\n",
      "| N/A   35C    P0             39W /  250W |    2841MiB /  40960MiB |      0%      Default |\n",
      "|                                         |                        |             Disabled |\n",
      "+-----------------------------------------+------------------------+----------------------+\n",
      "                                                                                         \n",
      "+-----------------------------------------------------------------------------------------+\n",
      "| Processes:                                                                              |\n",
      "|  GPU   GI   CI        PID   Type   Process name                              GPU Memory |\n",
      "|        ID   ID                                                               Usage      |\n",
      "|=========================================================================================|\n",
      "+-----------------------------------------------------------------------------------------+\n"
     ]
    }
   ],
   "source": [
    "!nvidia-smi"
   ]
  },
  {
   "cell_type": "markdown",
   "metadata": {},
   "source": [
    "### 2. 数据集（选择现有数据集）\n",
    "- **公开数据集论文**：https://ai.stanford.edu/~amaas/papers/wvSent_acl2011.pdf\n",
    "- **公开数据集地址**：https://ai.stanford.edu/~amaas/data/sentiment"
   ]
  },
  {
   "cell_type": "markdown",
   "metadata": {},
   "source": [
    "### 3. 数据预处理\n",
    "- **数据集**：原始数据集文件夹分为test/train，每个数据集又分为postive/negative子集，每个子集包含12500条数据。（详见original data）\n",
    "- **处理方式**：根据分类标签给数据加上0/1的情感标签，并合并到一个txt文件中。"
   ]
  },
  {
   "cell_type": "code",
   "execution_count": null,
   "metadata": {},
   "outputs": [],
   "source": [
    "import os\n",
    "import random\n",
    "\n",
    "# 封装函数，读取指定目录下的所有文本文件，打上指定标签，并将结果保存为一个新的文本文件。\n",
    "def process_and_label_reviews(input_dir, label, output_file):\n",
    "    labeled_reviews = [] # 保存所有标记后的评论\n",
    "\n",
    "    # 遍历输入目录中的所有文件\n",
    "    for file_name in os.listdir(input_dir):\n",
    "        file_path = os.path.join(input_dir, file_name) # 构建文件路径\n",
    "\n",
    "        # 仅处理 .txt 文件\n",
    "        if file_name.endswith(\".txt\"):\n",
    "            try:\n",
    "                with open(file_path, \"r\", encoding=\"utf-8\") as file: \n",
    "                    content = file.read().strip()  # 去除多余空格和换行\n",
    "                    if content:  # 如果文件非空\n",
    "                        labeled_reviews.append(f\"{label},{content}\") # 添加标签和评论\n",
    "            except Exception as e:\n",
    "                print(f\"Error reading file {file_name}: {e}\") # 打印错误消息\n",
    "\n",
    "    # 保存到输出文件\n",
    "    with open(output_file, \"w\", encoding=\"utf-8\") as output:\n",
    "        for review in labeled_reviews:\n",
    "            output.write(review + \"\\n\")\n",
    "\n",
    "    print(f\"Processed {len(labeled_reviews)} reviews and saved to {output_file}.\")\n",
    "    return len(labeled_reviews)"
   ]
  },
  {
   "cell_type": "code",
   "execution_count": 69,
   "metadata": {},
   "outputs": [
    {
     "name": "stdout",
     "output_type": "stream",
     "text": [
      "Processed 12500 reviews and saved to data/train_neg.txt.\n",
      "Processed 12500 reviews and saved to data/train_pos.txt.\n",
      "Processed 12500 reviews and saved to data/test_neg.txt.\n",
      "Processed 12500 reviews and saved to data/test_pos.txt.\n"
     ]
    }
   ],
   "source": [
    "processed_count = process_and_label_reviews(\"original data/train/train_neg\", 0, \"data/train_neg.txt\")\n",
    "processed_count = process_and_label_reviews(\"original data/train/train_pos\", 1, \"data/train_pos.txt\")\n",
    "processed_count = process_and_label_reviews(\"original data/test/test_neg\", 0, \"data/test_neg.txt\")\n",
    "processed_count = process_and_label_reviews(\"original data/test/test_pos\", 1, \"data/test_pos.txt\")"
   ]
  },
  {
   "cell_type": "code",
   "execution_count": null,
   "metadata": {},
   "outputs": [],
   "source": [
    "# 封装函数，将多个文件的数据合并、随机打乱，并保存到一个新的文件中。\n",
    "def merge_files(input_files, output_file):\n",
    "    combined_reviews = [] # 保存评论\n",
    "\n",
    "    # 读取所有文件中的数据\n",
    "    for file_path in input_files:\n",
    "        try:\n",
    "            with open(file_path, \"r\", encoding=\"utf-8\") as file:\n",
    "                combined_reviews.extend(file.readlines()) \n",
    "        except Exception as e:\n",
    "            print(f\"Error reading file {file_path}: {e}\")\n",
    "\n",
    "    # 随机打乱数据\n",
    "    random.shuffle(combined_reviews)\n",
    "\n",
    "    # 保存打乱后的数据到新文件\n",
    "    with open(output_file, \"w\", encoding=\"utf-8\") as output:\n",
    "        output.writelines(combined_reviews)\n",
    "\n",
    "    print(f\"Shuffled and merged {len(combined_reviews)} reviews into {output_file}.\")"
   ]
  },
  {
   "cell_type": "code",
   "execution_count": 71,
   "metadata": {},
   "outputs": [
    {
     "name": "stdout",
     "output_type": "stream",
     "text": [
      "Shuffled and merged 25000 reviews into data/test.txt.\n",
      "Shuffled and merged 25000 reviews into data/train.txt.\n"
     ]
    }
   ],
   "source": [
    "merge_files([\"data/test_neg.txt\", \"data/test_pos.txt\"],\"data/test.txt\")\n",
    "merge_files([\"data/train_neg.txt\", \"data/train_pos.txt\"],\"data/train.txt\")"
   ]
  },
  {
   "cell_type": "markdown",
   "metadata": {},
   "source": [
    "### 4. 数据加载\n",
    "- **数据集**：原始数据集文件夹分为test/train，每个数据集又分为postive/negative子集。（详见original data）\n",
    "- **处理方式**：根据分类标签给数据加上0/1的情感标签，并合并到一个txt文件中。"
   ]
  },
  {
   "cell_type": "code",
   "execution_count": null,
   "metadata": {},
   "outputs": [],
   "source": [
    "import jieba\n",
    "import re\n",
    "# 封装函数, 对文本进行处理\n",
    "def processing(text):\n",
    "    # 去除 HTML 标签\n",
    "    text = re.sub(r\"<.*?>\", \" \", text)                \n",
    "    # 分词\n",
    "    words = [w for w in jieba.lcut(text) if w.isalpha()]\n",
    "    # 用空格拼接成字符串\n",
    "    result = \" \".join(words)\n",
    "    return result"
   ]
  },
  {
   "cell_type": "code",
   "execution_count": null,
   "metadata": {},
   "outputs": [],
   "source": [
    "def load_corpus(path):\n",
    "    data = []\n",
    "    with open(path, \"r\", encoding=\"utf8\") as f:\n",
    "        for line in f:\n",
    "            # 按第一个逗号分割，避免内容中的逗号干扰\n",
    "            line = line.strip()\n",
    "            if line:  # 跳过空行\n",
    "                label, content = line.split(\",\", 1) # 仅分割第一个逗号，避免内容中的逗号干扰 \n",
    "                content = processing(content)\n",
    "                data.append((content, int(label)))  # 标签是0或1，转换为整数\n",
    "    return data"
   ]
  },
  {
   "cell_type": "code",
   "execution_count": 74,
   "metadata": {},
   "outputs": [],
   "source": [
    "# 分别加载训练集和测试集\n",
    "train_data = load_corpus(\"data/train.txt\")\n",
    "test_data = load_corpus(\"data/test.txt\")"
   ]
  },
  {
   "cell_type": "code",
   "execution_count": 75,
   "metadata": {},
   "outputs": [
    {
     "data": {
      "text/html": [
       "<div>\n",
       "<style scoped>\n",
       "    .dataframe tbody tr th:only-of-type {\n",
       "        vertical-align: middle;\n",
       "    }\n",
       "\n",
       "    .dataframe tbody tr th {\n",
       "        vertical-align: top;\n",
       "    }\n",
       "\n",
       "    .dataframe thead th {\n",
       "        text-align: right;\n",
       "    }\n",
       "</style>\n",
       "<table border=\"1\" class=\"dataframe\">\n",
       "  <thead>\n",
       "    <tr style=\"text-align: right;\">\n",
       "      <th></th>\n",
       "      <th>text</th>\n",
       "      <th>label</th>\n",
       "    </tr>\n",
       "  </thead>\n",
       "  <tbody>\n",
       "    <tr>\n",
       "      <th>0</th>\n",
       "      <td>The idea is to have something interesting happ...</td>\n",
       "      <td>0</td>\n",
       "    </tr>\n",
       "    <tr>\n",
       "      <th>1</th>\n",
       "      <td>It s great to see Jorja Fox in a role where sh...</td>\n",
       "      <td>1</td>\n",
       "    </tr>\n",
       "    <tr>\n",
       "      <th>2</th>\n",
       "      <td>I am very disappointed with K The original goo...</td>\n",
       "      <td>0</td>\n",
       "    </tr>\n",
       "    <tr>\n",
       "      <th>3</th>\n",
       "      <td>This solid little horror film is actually one ...</td>\n",
       "      <td>0</td>\n",
       "    </tr>\n",
       "    <tr>\n",
       "      <th>4</th>\n",
       "      <td>This has got to be a unique twists of two genr...</td>\n",
       "      <td>1</td>\n",
       "    </tr>\n",
       "  </tbody>\n",
       "</table>\n",
       "</div>"
      ],
      "text/plain": [
       "                                                text  label\n",
       "0  The idea is to have something interesting happ...      0\n",
       "1  It s great to see Jorja Fox in a role where sh...      1\n",
       "2  I am very disappointed with K The original goo...      0\n",
       "3  This solid little horror film is actually one ...      0\n",
       "4  This has got to be a unique twists of two genr...      1"
      ]
     },
     "execution_count": 75,
     "metadata": {},
     "output_type": "execute_result"
    }
   ],
   "source": [
    "import pandas as pd\n",
    "\n",
    "df_train = pd.DataFrame(train_data, columns=[\"text\", \"label\"])\n",
    "df_test = pd.DataFrame(test_data, columns=[\"text\", \"label\"])\n",
    "df_train.head()"
   ]
  },
  {
   "cell_type": "markdown",
   "metadata": {},
   "source": [
    "### 5. 数据可视化分析"
   ]
  },
  {
   "cell_type": "code",
   "execution_count": 76,
   "metadata": {},
   "outputs": [
    {
     "name": "stderr",
     "output_type": "stream",
     "text": [
      "/tmp/ipykernel_29296/1704324030.py:14: FutureWarning: \n",
      "\n",
      "Passing `palette` without assigning `hue` is deprecated and will be removed in v0.14.0. Assign the `x` variable to `hue` and set `legend=False` for the same effect.\n",
      "\n",
      "  sns.barplot(x=labels, y=counts, palette=\"viridis\")\n"
     ]
    },
    {
     "data": {
      "image/png": "[encoded data removed]",
      "text/plain": [
       "<Figure size 600x400 with 1 Axes>"
      ]
     },
     "metadata": {},
     "output_type": "display_data"
    }
   ],
   "source": [
    "# 训练集样本分布情况\n",
    "import matplotlib.pyplot as plt\n",
    "import seaborn as sns\n",
    "\n",
    "# 统计正负样本数量\n",
    "positive_count = df_train[df_train['label'] == 1].shape[0]\n",
    "negative_count = df_train[df_train['label'] == 0].shape[0]\n",
    "\n",
    "# 绘制条状图\n",
    "labels = ['Positive', 'Negative']\n",
    "counts = [positive_count, negative_count]\n",
    "\n",
    "plt.figure(figsize=(6, 4))\n",
    "sns.barplot(x=labels, y=counts, palette=\"viridis\")\n",
    "plt.title('Distribution of Positive and Negative Reviews')\n",
    "plt.ylabel('Number of Reviews')\n",
    "plt.show()"
   ]
  },
  {
   "cell_type": "code",
   "execution_count": 77,
   "metadata": {},
   "outputs": [
    {
     "name": "stderr",
     "output_type": "stream",
     "text": [
      "/tmp/ipykernel_29296/789659033.py:8: FutureWarning: \n",
      "\n",
      "Passing `palette` without assigning `hue` is deprecated and will be removed in v0.14.0. Assign the `x` variable to `hue` and set `legend=False` for the same effect.\n",
      "\n",
      "  sns.boxplot(x='label', y='text_length', data=df_train, palette=\"Set2\")\n"
     ]
    },
    {
     "data": {
      "image/png": "[encoded data removed]",
      "text/plain": [
       "<Figure size 800x600 with 1 Axes>"
      ]
     },
     "metadata": {},
     "output_type": "display_data"
    }
   ],
   "source": [
    "##不同情感类别的文本长度分布\n",
    "\n",
    "# 计算文本长度\n",
    "df_train['text_length'] = df_train['text'].apply(lambda x: len(x.split()))\n",
    "\n",
    "# 绘制箱线图\n",
    "plt.figure(figsize=(8, 6))\n",
    "sns.boxplot(x='label', y='text_length', data=df_train, palette=\"Set2\")\n",
    "plt.title('Text Length Distribution by Sentiment')\n",
    "plt.xlabel('Sentiment (0: Negative, 1: Positive)')\n",
    "plt.ylabel('Text Length')\n",
    "plt.show()"
   ]
  },
  {
   "cell_type": "code",
   "execution_count": 78,
   "metadata": {},
   "outputs": [
    {
     "data": {
      "image/png": "[encoded data removed]",
      "text/plain": [
       "<Figure size 1000x500 with 1 Axes>"
      ]
     },
     "metadata": {},
     "output_type": "display_data"
    }
   ],
   "source": [
    "# 训练集词云\n",
    "from wordcloud import WordCloud\n",
    "\n",
    "# 合并所有文本\n",
    "all_text = \" \".join(df_train['text'].tolist())\n",
    "\n",
    "# 生成词云\n",
    "wordcloud = WordCloud(width=800, height=400, background_color='white').generate(all_text)\n",
    "\n",
    "plt.figure(figsize=(10, 5))\n",
    "plt.imshow(wordcloud, interpolation='bilinear')\n",
    "plt.axis('off')\n",
    "plt.title('Word Cloud of Most Frequent Words in Reviews')\n",
    "plt.show()"
   ]
  },
  {
   "cell_type": "markdown",
   "metadata": {},
   "source": [
    "### 6. 训练词向量"
   ]
  },
  {
   "cell_type": "code",
   "execution_count": 79,
   "metadata": {},
   "outputs": [
    {
     "data": {
      "text/plain": [
       "0    [The, idea, is, to, have, something, interesti...\n",
       "1    [It, s, great, to, see, Jorja, Fox, in, a, rol...\n",
       "2    [I, am, very, disappointed, with, K, The, orig...\n",
       "3    [This, solid, little, horror, film, is, actual...\n",
       "4    [This, has, got, to, be, a, unique, twists, of...\n",
       "Name: text, dtype: object"
      ]
     },
     "execution_count": 79,
     "metadata": {},
     "output_type": "execute_result"
    }
   ],
   "source": [
    "# word2vec要求的输入格式: list(word)\n",
    "wv_input = df_train['text'].map(lambda s: s.split(\" \"))# 将训练集中的文本转换为 word2vec 模型的输入格式\n",
    "wv_input.head()       "
   ]
  },
  {
   "cell_type": "code",
   "execution_count": null,
   "metadata": {},
   "outputs": [
    {
     "name": "stderr",
     "output_type": "stream",
     "text": [
      "Training Word2Vec: 100%|██████████| 200/200 [10:05<00:00,  3.03s/it, Epoch=200]\n"
     ]
    }
   ],
   "source": [
    "from gensim import models\n",
    "from tqdm.auto import tqdm\n",
    "\n",
    "# Word2Vec，其余参数量均为默认值\n",
    "word2vec = models.Word2Vec(\n",
    "    vector_size=64,   # 词向量维度\n",
    "    min_count=1,      # 最小词频，考虑所有词\n",
    "    epochs=200       # 迭代轮次\n",
    ")\n",
    "\n",
    "# 构建词汇表\n",
    "word2vec.build_vocab(wv_input)\n",
    "\n",
    "# 训练 Word2Vec 模型，并使用 tqdm 显示进度条\n",
    "with tqdm(total=word2vec.epochs, desc=\"Training Word2Vec\") as pbar:\n",
    "    for epoch in range(word2vec.epochs):\n",
    "        word2vec.train(\n",
    "            wv_input, # 训练集\n",
    "            total_examples=word2vec.corpus_count, # 训练集大小\n",
    "            epochs=1 # 每次迭代一次\n",
    "        )\n",
    "        pbar.update(1)  # 更新进度条\n",
    "        pbar.set_postfix({\"Epoch\": epoch + 1})  # 显示当前 epoch"
   ]
  },
  {
   "cell_type": "markdown",
   "metadata": {},
   "source": [
    "查找近义词, 直观感受训练得到的word2vec效果"
   ]
  },
  {
   "cell_type": "code",
   "execution_count": 81,
   "metadata": {},
   "outputs": [
    {
     "data": {
      "text/plain": [
       "[('We', 0.7779507040977478),\n",
       " ('you', 0.7645905613899231),\n",
       " ('we', 0.7340291142463684),\n",
       " ('I', 0.6767842769622803),\n",
       " ('They', 0.6438711285591125),\n",
       " ('u', 0.601439893245697),\n",
       " ('i', 0.577172577381134),\n",
       " ('they', 0.54689621925354),\n",
       " ('answears', 0.522258996963501),\n",
       " ('Ya', 0.5219678282737732)]"
      ]
     },
     "execution_count": 81,
     "metadata": {},
     "output_type": "execute_result"
    }
   ],
   "source": [
    "word2vec.wv.most_similar(\"You\")"
   ]
  },
  {
   "cell_type": "code",
   "execution_count": 82,
   "metadata": {},
   "outputs": [
    {
     "data": {
      "text/plain": [
       "[('decent', 0.8260085582733154),\n",
       " ('great', 0.8083224296569824),\n",
       " ('bad', 0.7919091582298279),\n",
       " ('nice', 0.7345735430717468),\n",
       " ('fine', 0.7181881666183472),\n",
       " ('cool', 0.7166962623596191),\n",
       " ('solid', 0.6930065155029297),\n",
       " ('perfect', 0.677984356880188),\n",
       " ('fantastic', 0.6656774282455444),\n",
       " ('terrific', 0.664729654788971)]"
      ]
     },
     "execution_count": 82,
     "metadata": {},
     "output_type": "execute_result"
    }
   ],
   "source": [
    "word2vec.wv.most_similar(\"good\")"
   ]
  },
  {
   "cell_type": "code",
   "execution_count": 83,
   "metadata": {},
   "outputs": [
    {
     "data": {
      "text/plain": [
       "[('outstanding', 0.923140823841095),\n",
       " ('amazing', 0.7890225648880005),\n",
       " ('incredible', 0.7832885980606079),\n",
       " ('terrific', 0.7655730843544006),\n",
       " ('exceptional', 0.763860285282135),\n",
       " ('impressive', 0.7442188858985901),\n",
       " ('superb', 0.7362487316131592),\n",
       " ('awesome', 0.7156968116760254),\n",
       " ('fantastic', 0.7110673785209656),\n",
       " ('impeccable', 0.7108775973320007)]"
      ]
     },
     "execution_count": 83,
     "metadata": {},
     "output_type": "execute_result"
    }
   ],
   "source": [
    "word2vec.wv.most_similar(\"excellent\")"
   ]
  },
  {
   "cell_type": "code",
   "execution_count": 84,
   "metadata": {},
   "outputs": [
    {
     "data": {
      "image/png": "[encoded data removed]",
      "text/plain": [
       "<Figure size 800x600 with 2 Axes>"
      ]
     },
     "metadata": {},
     "output_type": "display_data"
    }
   ],
   "source": [
    "# 词向量的相似度\n",
    "import numpy as np\n",
    "\n",
    "# 选择一些常见的词\n",
    "words = ['good', 'bad', 'excellent', 'movie', 'film', 'story']\n",
    "\n",
    "# 获取这些词的词向量\n",
    "word_vectors = np.array([word2vec.wv[word] for word in words])\n",
    "\n",
    "# 计算词向量之间的余弦相似度\n",
    "from sklearn.metrics.pairwise import cosine_similarity\n",
    "similarity_matrix = cosine_similarity(word_vectors)\n",
    "\n",
    "# 绘制热力图\n",
    "plt.figure(figsize=(8, 6))\n",
    "sns.heatmap(similarity_matrix, annot=True, xticklabels=words, yticklabels=words, cmap=\"YlGnBu\")\n",
    "plt.title('Cosine Similarity Between Word Vectors')\n",
    "plt.show()"
   ]
  },
  {
   "cell_type": "markdown",
   "metadata": {},
   "source": [
    "### 7. LSTM"
   ]
  },
  {
   "cell_type": "code",
   "execution_count": 85,
   "metadata": {},
   "outputs": [],
   "source": [
    "import torch\n",
    "from torch import nn\n",
    "from torch.nn.utils.rnn import pad_sequence, pack_padded_sequence,pad_packed_sequence\n",
    "from torch.utils.data import Dataset, DataLoader\n",
    "\n",
    "#如果有GPU就用GPU\n",
    "device = \"cuda:0\" if torch.cuda.is_available() else \"cpu\""
   ]
  },
  {
   "cell_type": "code",
   "execution_count": null,
   "metadata": {},
   "outputs": [],
   "source": [
    "# 超参数\n",
    "learning_rate = 5e-4 # 学习率\n",
    "input_size = 768 # 输入大小\n",
    "num_epoches = 100 # 迭代次数\n",
    "batch_size = 100 # 批大小\n",
    "embed_size = 64 # 词向量维度\n",
    "hidden_size = 64 # 隐藏层大小\n",
    "num_layers = 2 # LSTM 层数"
   ]
  },
  {
   "cell_type": "code",
   "execution_count": null,
   "metadata": {},
   "outputs": [],
   "source": [
    "# 定义数据集\n",
    "class MyDataset(Dataset):\n",
    "    def __init__(self, df):\n",
    "        self.data = [] # 保存词向量\n",
    "        self.label = df[\"label\"].tolist() # 保存标签\n",
    "        for s in df[\"text\"].tolist(): # 遍历所有评论\n",
    "            vectors = [] # 保存词向量\n",
    "            for w in s.split(\" \"): # 遍历评论中的每个词\n",
    "                if w in word2vec.wv.key_to_index: # 如果词在词汇表中，将每个词替换为对应的词向量\n",
    "                    vectors.append(word2vec.wv[w])   \n",
    "            vectors = torch.Tensor(vectors) # 转换为张量\n",
    "            self.data.append(vectors) # 添加到数据集中\n",
    "    \n",
    "    # 获取数据\n",
    "    def __getitem__(self, index):\n",
    "        data = self.data[index] \n",
    "        label = self.label[index]\n",
    "        return data, label\n",
    "    \n",
    "    # 获取数据集大小\n",
    "    def __len__(self):\n",
    "        return len(self.label)"
   ]
  },
  {
   "cell_type": "code",
   "execution_count": null,
   "metadata": {},
   "outputs": [],
   "source": [
    "def collate_fn(data):\n",
    "    \"\"\"\n",
    "    :param data: 第0维：data，第1维：label\n",
    "    :return: 序列化的data、记录实际长度的序列、以及label列表\n",
    "    \"\"\"\n",
    "    data.sort(key=lambda x: len(x[0]), reverse=True) # pack_padded_sequence要求要按照序列的长度倒序排列\n",
    "    data_length = [len(sq[0]) for sq in data] # 记录每个序列的实际长度\n",
    "    x = [i[0] for i in data] # 获取所有的data\n",
    "    y = [i[1] for i in data] # 获取所有的label\n",
    "    data = pad_sequence(x, batch_first=True, padding_value=0)   # 用RNN处理变长序列的必要操作\n",
    "    return data, torch.tensor(y, dtype=torch.float32), data_length # 返回序列化的data、记录实际长度的序列、以及label列表"
   ]
  },
  {
   "cell_type": "code",
   "execution_count": 91,
   "metadata": {},
   "outputs": [],
   "source": [
    "# 训练集\n",
    "train_data = MyDataset(df_train)\n",
    "train_loader = DataLoader(train_data, batch_size=batch_size, collate_fn=collate_fn, shuffle=True)\n",
    "\n",
    "# 测试集\n",
    "test_data = MyDataset(df_test)\n",
    "test_loader = DataLoader(test_data, batch_size=batch_size, collate_fn=collate_fn, shuffle=True)"
   ]
  },
  {
   "cell_type": "code",
   "execution_count": null,
   "metadata": {},
   "outputs": [],
   "source": [
    "# 网络结构\n",
    "class LSTM(nn.Module):\n",
    "    def __init__(self, input_size, hidden_size, num_layers):\n",
    "        super(LSTM, self).__init__() \n",
    "        self.hidden_size = hidden_size # 隐藏层大小\n",
    "        self.num_layers = num_layers # LSTM 层数\n",
    "        self.lstm = nn.LSTM(input_size, hidden_size, num_layers, batch_first=True, bidirectional=True) # 双向LSTM\n",
    "        self.fc = nn.Linear(hidden_size * 2, 1)  # 双向, 输出维度要*2\n",
    "        self.sigmoid = nn.Sigmoid() # 激活函数\n",
    "\n",
    "    def forward(self, x, lengths):\n",
    "        h0 = torch.zeros(self.num_layers * 2, x.size(0), self.hidden_size).to(device)  # 双向, 第一个维度要*2\n",
    "        c0 = torch.zeros(self.num_layers * 2, x.size(0), self.hidden_size).to(device) # 第一个维度*2\n",
    "        \n",
    "        packed_input = torch.nn.utils.rnn.pack_padded_sequence(input=x, lengths=lengths, batch_first=True) \n",
    "        packed_out, (h_n, h_c) = self.lstm(packed_input, (h0, c0))\n",
    "\n",
    "        lstm_out = torch.cat([h_n[-2], h_n[-1]], 1)  # 双向, 所以要将最后两维拼接, 得到的就是最后一个time step的输出\n",
    "        out = self.fc(lstm_out) # 全连接层\n",
    "        out = self.sigmoid(out) # 激活函数\n",
    "        return out\n",
    "\n",
    "lstm = LSTM(embed_size, hidden_size, num_layers)"
   ]
  },
  {
   "cell_type": "code",
   "execution_count": 98,
   "metadata": {},
   "outputs": [],
   "source": [
    "from sklearn import metrics\n",
    "from sklearn.metrics import precision_score, recall_score,f1_score\n",
    "\n",
    "# 在测试集效果检验\n",
    "def test():\n",
    "    y_pred, y_true = [], []\n",
    "\n",
    "    with torch.no_grad():\n",
    "        for x, labels, lengths in test_loader:\n",
    "            x = x.to(device)\n",
    "            outputs = lstm(x, lengths)          # 前向传播\n",
    "            outputs = outputs.view(-1)          # 将输出展平\n",
    "            y_pred.append(outputs)\n",
    "            y_true.append(labels)\n",
    "\n",
    "    y_prob = torch.cat(y_pred).cpu()  # 将 Tensor 移动到 CPU\n",
    "    y_true = torch.cat(y_true).cpu()  # 将 Tensor 移动到 CPU\n",
    "    y_pred = y_prob.clone()\n",
    "    y_pred[y_pred > 0.5] = 1\n",
    "    y_pred[y_pred <= 0.5] = 0\n",
    "    \n",
    "    # 计算 Precision, Recall, F1-Score\n",
    "    precision = precision_score(y_true, y_pred)\n",
    "    recall = recall_score(y_true, y_pred)\n",
    "    f1 = f1_score(y_true, y_pred)\n",
    "    \n",
    "    # 打印分类报告\n",
    "    print(metrics.classification_report(y_true, y_pred))\n",
    "    print(\"准确率:\", metrics.accuracy_score(y_true, y_pred))\n",
    "    print(\"AUC:\", metrics.roc_auc_score(y_true, y_prob))\n",
    "    \n",
    "    # 返回 Precision, Recall, F1-Score\n",
    "    return precision, recall, f1"
   ]
  },
  {
   "cell_type": "code",
   "execution_count": 99,
   "metadata": {},
   "outputs": [],
   "source": [
    "# 定义损失函数和优化器\n",
    "criterion = nn.BCELoss() # 二分类交叉熵\n",
    "optimizer = torch.optim.Adam(lstm.parameters(), lr=learning_rate) # Adam 优化器"
   ]
  },
  {
   "cell_type": "code",
   "execution_count": 100,
   "metadata": {},
   "outputs": [
    {
     "name": "stderr",
     "output_type": "stream",
     "text": [
      "Epoch 1/100: 100%|██████████| 250/250 [00:30<00:00,  8.20it/s, Loss=0.321]\n"
     ]
    },
    {
     "name": "stdout",
     "output_type": "stream",
     "text": [
      "Epoch 1 Training Finished. Average Loss: 0.4045\n",
      "Epoch 1 Test Results:\n",
      "              precision    recall  f1-score   support\n",
      "\n",
      "         0.0       0.86      0.83      0.84     12500\n",
      "         1.0       0.83      0.86      0.85     12500\n",
      "\n",
      "    accuracy                           0.84     25000\n",
      "   macro avg       0.85      0.84      0.84     25000\n",
      "weighted avg       0.85      0.84      0.84     25000\n",
      "\n",
      "准确率: 0.84476\n",
      "AUC: 0.9157750784\n"
     ]
    },
    {
     "name": "stderr",
     "output_type": "stream",
     "text": [
      "Epoch 2/100: 100%|██████████| 250/250 [00:29<00:00,  8.59it/s, Loss=0.49] \n"
     ]
    },
    {
     "name": "stdout",
     "output_type": "stream",
     "text": [
      "Epoch 2 Training Finished. Average Loss: 0.4295\n",
      "Epoch 2 Test Results:\n",
      "              precision    recall  f1-score   support\n",
      "\n",
      "         0.0       0.85      0.83      0.84     12500\n",
      "         1.0       0.83      0.86      0.84     12500\n",
      "\n",
      "    accuracy                           0.84     25000\n",
      "   macro avg       0.84      0.84      0.84     25000\n",
      "weighted avg       0.84      0.84      0.84     25000\n",
      "\n",
      "准确率: 0.84192\n",
      "AUC: 0.9162690367999999\n"
     ]
    },
    {
     "name": "stderr",
     "output_type": "stream",
     "text": [
      "Epoch 3/100: 100%|██████████| 250/250 [00:26<00:00,  9.30it/s, Loss=0.449]\n"
     ]
    },
    {
     "name": "stdout",
     "output_type": "stream",
     "text": [
      "Epoch 3 Training Finished. Average Loss: 0.3556\n",
      "Epoch 3 Test Results:\n",
      "              precision    recall  f1-score   support\n",
      "\n",
      "         0.0       0.86      0.83      0.85     12500\n",
      "         1.0       0.84      0.86      0.85     12500\n",
      "\n",
      "    accuracy                           0.85     25000\n",
      "   macro avg       0.85      0.85      0.85     25000\n",
      "weighted avg       0.85      0.85      0.85     25000\n",
      "\n",
      "准确率: 0.84816\n",
      "AUC: 0.9208974048\n"
     ]
    },
    {
     "name": "stderr",
     "output_type": "stream",
     "text": [
      "Epoch 4/100: 100%|██████████| 250/250 [00:27<00:00,  9.13it/s, Loss=0.416]\n"
     ]
    },
    {
     "name": "stdout",
     "output_type": "stream",
     "text": [
      "Epoch 4 Training Finished. Average Loss: 0.3414\n",
      "Epoch 4 Test Results:\n",
      "              precision    recall  f1-score   support\n",
      "\n",
      "         0.0       0.84      0.88      0.86     12500\n",
      "         1.0       0.87      0.83      0.85     12500\n",
      "\n",
      "    accuracy                           0.85     25000\n",
      "   macro avg       0.85      0.85      0.85     25000\n",
      "weighted avg       0.85      0.85      0.85     25000\n",
      "\n",
      "准确率: 0.85268\n",
      "AUC: 0.9210632160000001\n"
     ]
    },
    {
     "name": "stderr",
     "output_type": "stream",
     "text": [
      "Epoch 5/100: 100%|██████████| 250/250 [00:29<00:00,  8.45it/s, Loss=0.455]\n"
     ]
    },
    {
     "name": "stdout",
     "output_type": "stream",
     "text": [
      "Epoch 5 Training Finished. Average Loss: 0.4132\n",
      "Epoch 5 Test Results:\n",
      "              precision    recall  f1-score   support\n",
      "\n",
      "         0.0       0.82      0.86      0.84     12500\n",
      "         1.0       0.85      0.81      0.83     12500\n",
      "\n",
      "    accuracy                           0.84     25000\n",
      "   macro avg       0.84      0.84      0.84     25000\n",
      "weighted avg       0.84      0.84      0.84     25000\n",
      "\n",
      "准确率: 0.83544\n",
      "AUC: 0.9121659263999999\n"
     ]
    },
    {
     "name": "stderr",
     "output_type": "stream",
     "text": [
      "Epoch 6/100: 100%|██████████| 250/250 [00:26<00:00,  9.30it/s, Loss=0.363]\n"
     ]
    },
    {
     "name": "stdout",
     "output_type": "stream",
     "text": [
      "Epoch 6 Training Finished. Average Loss: 0.3230\n",
      "Epoch 6 Test Results:\n",
      "              precision    recall  f1-score   support\n",
      "\n",
      "         0.0       0.81      0.93      0.87     12500\n",
      "         1.0       0.91      0.79      0.85     12500\n",
      "\n",
      "    accuracy                           0.86     25000\n",
      "   macro avg       0.86      0.86      0.86     25000\n",
      "weighted avg       0.86      0.86      0.86     25000\n",
      "\n",
      "准确率: 0.85708\n",
      "AUC: 0.9399625824000001\n"
     ]
    },
    {
     "name": "stderr",
     "output_type": "stream",
     "text": [
      "Epoch 7/100: 100%|██████████| 250/250 [00:26<00:00,  9.32it/s, Loss=0.264]\n"
     ]
    },
    {
     "name": "stdout",
     "output_type": "stream",
     "text": [
      "Epoch 7 Training Finished. Average Loss: 0.3402\n",
      "Epoch 7 Test Results:\n",
      "              precision    recall  f1-score   support\n",
      "\n",
      "         0.0       0.87      0.85      0.86     12500\n",
      "         1.0       0.85      0.87      0.86     12500\n",
      "\n",
      "    accuracy                           0.86     25000\n",
      "   macro avg       0.86      0.86      0.86     25000\n",
      "weighted avg       0.86      0.86      0.86     25000\n",
      "\n",
      "准确率: 0.85956\n",
      "AUC: 0.9321797504\n"
     ]
    },
    {
     "name": "stderr",
     "output_type": "stream",
     "text": [
      "Epoch 8/100: 100%|██████████| 250/250 [00:37<00:00,  6.71it/s, Loss=0.315]\n"
     ]
    },
    {
     "name": "stdout",
     "output_type": "stream",
     "text": [
      "Epoch 8 Training Finished. Average Loss: 0.3181\n",
      "Epoch 8 Test Results:\n",
      "              precision    recall  f1-score   support\n",
      "\n",
      "         0.0       0.89      0.86      0.87     12500\n",
      "         1.0       0.86      0.89      0.88     12500\n",
      "\n",
      "    accuracy                           0.88     25000\n",
      "   macro avg       0.88      0.88      0.88     25000\n",
      "weighted avg       0.88      0.88      0.88     25000\n",
      "\n",
      "准确率: 0.87508\n",
      "AUC: 0.944570432\n"
     ]
    },
    {
     "name": "stderr",
     "output_type": "stream",
     "text": [
      "Epoch 9/100: 100%|██████████| 250/250 [00:29<00:00,  8.47it/s, Loss=0.223]\n"
     ]
    },
    {
     "name": "stdout",
     "output_type": "stream",
     "text": [
      "Epoch 9 Training Finished. Average Loss: 0.2987\n",
      "Epoch 9 Test Results:\n",
      "              precision    recall  f1-score   support\n",
      "\n",
      "         0.0       0.85      0.90      0.87     12500\n",
      "         1.0       0.89      0.84      0.87     12500\n",
      "\n",
      "    accuracy                           0.87     25000\n",
      "   macro avg       0.87      0.87      0.87     25000\n",
      "weighted avg       0.87      0.87      0.87     25000\n",
      "\n",
      "准确率: 0.86916\n",
      "AUC: 0.943456096\n"
     ]
    },
    {
     "name": "stderr",
     "output_type": "stream",
     "text": [
      "Epoch 10/100: 100%|██████████| 250/250 [00:26<00:00,  9.37it/s, Loss=0.394]\n"
     ]
    },
    {
     "name": "stdout",
     "output_type": "stream",
     "text": [
      "Epoch 10 Training Finished. Average Loss: 0.3166\n",
      "Epoch 10 Test Results:\n",
      "              precision    recall  f1-score   support\n",
      "\n",
      "         0.0       0.85      0.91      0.88     12500\n",
      "         1.0       0.90      0.84      0.87     12500\n",
      "\n",
      "    accuracy                           0.88     25000\n",
      "   macro avg       0.88      0.88      0.88     25000\n",
      "weighted avg       0.88      0.88      0.88     25000\n",
      "\n",
      "准确率: 0.87692\n",
      "AUC: 0.9482861280000001\n"
     ]
    },
    {
     "name": "stderr",
     "output_type": "stream",
     "text": [
      "Epoch 11/100: 100%|██████████| 250/250 [00:26<00:00,  9.44it/s, Loss=0.252]\n"
     ]
    },
    {
     "name": "stdout",
     "output_type": "stream",
     "text": [
      "Epoch 11 Training Finished. Average Loss: 0.3441\n",
      "Epoch 11 Test Results:\n",
      "              precision    recall  f1-score   support\n",
      "\n",
      "         0.0       0.89      0.86      0.88     12500\n",
      "         1.0       0.86      0.90      0.88     12500\n",
      "\n",
      "    accuracy                           0.88     25000\n",
      "   macro avg       0.88      0.88      0.88     25000\n",
      "weighted avg       0.88      0.88      0.88     25000\n",
      "\n",
      "准确率: 0.87908\n",
      "AUC: 0.9427159359999999\n"
     ]
    },
    {
     "name": "stderr",
     "output_type": "stream",
     "text": [
      "Epoch 12/100: 100%|██████████| 250/250 [00:26<00:00,  9.41it/s, Loss=0.246]\n"
     ]
    },
    {
     "name": "stdout",
     "output_type": "stream",
     "text": [
      "Epoch 12 Training Finished. Average Loss: 0.3054\n",
      "Epoch 12 Test Results:\n",
      "              precision    recall  f1-score   support\n",
      "\n",
      "         0.0       0.85      0.89      0.87     12500\n",
      "         1.0       0.89      0.84      0.86     12500\n",
      "\n",
      "    accuracy                           0.87     25000\n",
      "   macro avg       0.87      0.87      0.87     25000\n",
      "weighted avg       0.87      0.87      0.87     25000\n",
      "\n",
      "准确率: 0.86824\n",
      "AUC: 0.9375282144\n"
     ]
    },
    {
     "name": "stderr",
     "output_type": "stream",
     "text": [
      "Epoch 13/100: 100%|██████████| 250/250 [00:26<00:00,  9.39it/s, Loss=0.25] \n"
     ]
    },
    {
     "name": "stdout",
     "output_type": "stream",
     "text": [
      "Epoch 13 Training Finished. Average Loss: 0.2723\n",
      "Epoch 13 Test Results:\n",
      "              precision    recall  f1-score   support\n",
      "\n",
      "         0.0       0.88      0.89      0.89     12500\n",
      "         1.0       0.89      0.88      0.88     12500\n",
      "\n",
      "    accuracy                           0.88     25000\n",
      "   macro avg       0.88      0.88      0.88     25000\n",
      "weighted avg       0.88      0.88      0.88     25000\n",
      "\n",
      "准确率: 0.88464\n",
      "AUC: 0.9528240544\n"
     ]
    },
    {
     "name": "stderr",
     "output_type": "stream",
     "text": [
      "Epoch 14/100: 100%|██████████| 250/250 [00:27<00:00,  8.96it/s, Loss=0.269]\n"
     ]
    },
    {
     "name": "stdout",
     "output_type": "stream",
     "text": [
      "Epoch 14 Training Finished. Average Loss: 0.2652\n",
      "Epoch 14 Test Results:\n",
      "              precision    recall  f1-score   support\n",
      "\n",
      "         0.0       0.89      0.89      0.89     12500\n",
      "         1.0       0.89      0.90      0.89     12500\n",
      "\n",
      "    accuracy                           0.89     25000\n",
      "   macro avg       0.89      0.89      0.89     25000\n",
      "weighted avg       0.89      0.89      0.89     25000\n",
      "\n",
      "准确率: 0.89108\n",
      "AUC: 0.9550141248\n"
     ]
    },
    {
     "name": "stderr",
     "output_type": "stream",
     "text": [
      "Epoch 15/100: 100%|██████████| 250/250 [00:26<00:00,  9.46it/s, Loss=0.252]\n"
     ]
    },
    {
     "name": "stdout",
     "output_type": "stream",
     "text": [
      "Epoch 15 Training Finished. Average Loss: 0.2464\n",
      "Epoch 15 Test Results:\n",
      "              precision    recall  f1-score   support\n",
      "\n",
      "         0.0       0.87      0.92      0.90     12500\n",
      "         1.0       0.92      0.87      0.89     12500\n",
      "\n",
      "    accuracy                           0.90     25000\n",
      "   macro avg       0.90      0.90      0.89     25000\n",
      "weighted avg       0.90      0.90      0.89     25000\n",
      "\n",
      "准确率: 0.895\n",
      "AUC: 0.9605793183999999\n"
     ]
    },
    {
     "name": "stderr",
     "output_type": "stream",
     "text": [
      "Epoch 16/100: 100%|██████████| 250/250 [00:26<00:00,  9.35it/s, Loss=0.19] \n"
     ]
    },
    {
     "name": "stdout",
     "output_type": "stream",
     "text": [
      "Epoch 16 Training Finished. Average Loss: 0.2290\n",
      "Epoch 16 Test Results:\n",
      "              precision    recall  f1-score   support\n",
      "\n",
      "         0.0       0.92      0.87      0.89     12500\n",
      "         1.0       0.88      0.92      0.90     12500\n",
      "\n",
      "    accuracy                           0.90     25000\n",
      "   macro avg       0.90      0.90      0.90     25000\n",
      "weighted avg       0.90      0.90      0.90     25000\n",
      "\n",
      "准确率: 0.89712\n",
      "AUC: 0.962521152\n"
     ]
    },
    {
     "name": "stderr",
     "output_type": "stream",
     "text": [
      "Epoch 17/100: 100%|██████████| 250/250 [00:35<00:00,  7.13it/s, Loss=0.15]  \n"
     ]
    },
    {
     "name": "stdout",
     "output_type": "stream",
     "text": [
      "Epoch 17 Training Finished. Average Loss: 0.2184\n",
      "Epoch 17 Test Results:\n",
      "              precision    recall  f1-score   support\n",
      "\n",
      "         0.0       0.90      0.90      0.90     12500\n",
      "         1.0       0.90      0.90      0.90     12500\n",
      "\n",
      "    accuracy                           0.90     25000\n",
      "   macro avg       0.90      0.90      0.90     25000\n",
      "weighted avg       0.90      0.90      0.90     25000\n",
      "\n",
      "准确率: 0.89932\n",
      "AUC: 0.9639232160000002\n"
     ]
    },
    {
     "name": "stderr",
     "output_type": "stream",
     "text": [
      "Epoch 18/100: 100%|██████████| 250/250 [00:27<00:00,  9.13it/s, Loss=0.256] \n"
     ]
    },
    {
     "name": "stdout",
     "output_type": "stream",
     "text": [
      "Epoch 18 Training Finished. Average Loss: 0.2072\n",
      "Epoch 18 Test Results:\n",
      "              precision    recall  f1-score   support\n",
      "\n",
      "         0.0       0.90      0.90      0.90     12500\n",
      "         1.0       0.90      0.90      0.90     12500\n",
      "\n",
      "    accuracy                           0.90     25000\n",
      "   macro avg       0.90      0.90      0.90     25000\n",
      "weighted avg       0.90      0.90      0.90     25000\n",
      "\n",
      "准确率: 0.90208\n",
      "AUC: 0.9653695776000001\n"
     ]
    },
    {
     "name": "stderr",
     "output_type": "stream",
     "text": [
      "Epoch 19/100: 100%|██████████| 250/250 [00:26<00:00,  9.31it/s, Loss=0.115] \n"
     ]
    },
    {
     "name": "stdout",
     "output_type": "stream",
     "text": [
      "Epoch 19 Training Finished. Average Loss: 0.1977\n",
      "Epoch 19 Test Results:\n",
      "              precision    recall  f1-score   support\n",
      "\n",
      "         0.0       0.87      0.94      0.90     12500\n",
      "         1.0       0.93      0.86      0.89     12500\n",
      "\n",
      "    accuracy                           0.90     25000\n",
      "   macro avg       0.90      0.90      0.90     25000\n",
      "weighted avg       0.90      0.90      0.90     25000\n",
      "\n",
      "准确率: 0.8972\n",
      "AUC: 0.9650151136\n"
     ]
    },
    {
     "name": "stderr",
     "output_type": "stream",
     "text": [
      "Epoch 20/100: 100%|██████████| 250/250 [00:26<00:00,  9.35it/s, Loss=0.126] \n"
     ]
    },
    {
     "name": "stdout",
     "output_type": "stream",
     "text": [
      "Epoch 20 Training Finished. Average Loss: 0.1873\n",
      "Epoch 20 Test Results:\n",
      "              precision    recall  f1-score   support\n",
      "\n",
      "         0.0       0.87      0.94      0.90     12500\n",
      "         1.0       0.93      0.86      0.89     12500\n",
      "\n",
      "    accuracy                           0.90     25000\n",
      "   macro avg       0.90      0.90      0.90     25000\n",
      "weighted avg       0.90      0.90      0.90     25000\n",
      "\n",
      "准确率: 0.8978\n",
      "AUC: 0.9663360992000001\n"
     ]
    },
    {
     "name": "stderr",
     "output_type": "stream",
     "text": [
      "Epoch 21/100: 100%|██████████| 250/250 [00:26<00:00,  9.38it/s, Loss=0.214] \n"
     ]
    },
    {
     "name": "stdout",
     "output_type": "stream",
     "text": [
      "Epoch 21 Training Finished. Average Loss: 0.1755\n",
      "Epoch 21 Test Results:\n",
      "              precision    recall  f1-score   support\n",
      "\n",
      "         0.0       0.91      0.90      0.90     12500\n",
      "         1.0       0.90      0.91      0.91     12500\n",
      "\n",
      "    accuracy                           0.91     25000\n",
      "   macro avg       0.91      0.91      0.91     25000\n",
      "weighted avg       0.91      0.91      0.91     25000\n",
      "\n",
      "准确率: 0.90544\n",
      "AUC: 0.966179408\n"
     ]
    },
    {
     "name": "stderr",
     "output_type": "stream",
     "text": [
      "Epoch 22/100: 100%|██████████| 250/250 [00:26<00:00,  9.33it/s, Loss=0.191] \n"
     ]
    },
    {
     "name": "stdout",
     "output_type": "stream",
     "text": [
      "Epoch 22 Training Finished. Average Loss: 0.1642\n",
      "Epoch 22 Test Results:\n",
      "              precision    recall  f1-score   support\n",
      "\n",
      "         0.0       0.92      0.89      0.91     12500\n",
      "         1.0       0.89      0.92      0.91     12500\n",
      "\n",
      "    accuracy                           0.91     25000\n",
      "   macro avg       0.91      0.91      0.91     25000\n",
      "weighted avg       0.91      0.91      0.91     25000\n",
      "\n",
      "准确率: 0.90656\n",
      "AUC: 0.9665054687999999\n"
     ]
    },
    {
     "name": "stderr",
     "output_type": "stream",
     "text": [
      "Epoch 23/100: 100%|██████████| 250/250 [00:27<00:00,  9.24it/s, Loss=0.214] \n"
     ]
    },
    {
     "name": "stdout",
     "output_type": "stream",
     "text": [
      "Epoch 23 Training Finished. Average Loss: 0.1527\n",
      "Epoch 23 Test Results:\n",
      "              precision    recall  f1-score   support\n",
      "\n",
      "         0.0       0.89      0.92      0.91     12500\n",
      "         1.0       0.92      0.89      0.90     12500\n",
      "\n",
      "    accuracy                           0.90     25000\n",
      "   macro avg       0.90      0.90      0.90     25000\n",
      "weighted avg       0.90      0.90      0.90     25000\n",
      "\n",
      "准确率: 0.90396\n",
      "AUC: 0.9661386976000002\n"
     ]
    },
    {
     "name": "stderr",
     "output_type": "stream",
     "text": [
      "Epoch 24/100: 100%|██████████| 250/250 [00:26<00:00,  9.40it/s, Loss=0.0798]\n"
     ]
    },
    {
     "name": "stdout",
     "output_type": "stream",
     "text": [
      "Epoch 24 Training Finished. Average Loss: 0.1362\n",
      "Epoch 24 Test Results:\n",
      "              precision    recall  f1-score   support\n",
      "\n",
      "         0.0       0.91      0.90      0.91     12500\n",
      "         1.0       0.90      0.92      0.91     12500\n",
      "\n",
      "    accuracy                           0.91     25000\n",
      "   macro avg       0.91      0.91      0.91     25000\n",
      "weighted avg       0.91      0.91      0.91     25000\n",
      "\n",
      "准确率: 0.90644\n",
      "AUC: 0.965698912\n"
     ]
    },
    {
     "name": "stderr",
     "output_type": "stream",
     "text": [
      "Epoch 25/100: 100%|██████████| 250/250 [00:26<00:00,  9.32it/s, Loss=0.0482]\n"
     ]
    },
    {
     "name": "stdout",
     "output_type": "stream",
     "text": [
      "Epoch 25 Training Finished. Average Loss: 0.1257\n",
      "Epoch 25 Test Results:\n",
      "              precision    recall  f1-score   support\n",
      "\n",
      "         0.0       0.90      0.91      0.90     12500\n",
      "         1.0       0.91      0.90      0.90     12500\n",
      "\n",
      "    accuracy                           0.90     25000\n",
      "   macro avg       0.90      0.90      0.90     25000\n",
      "weighted avg       0.90      0.90      0.90     25000\n",
      "\n",
      "准确率: 0.90364\n",
      "AUC: 0.9643286976000001\n"
     ]
    },
    {
     "name": "stderr",
     "output_type": "stream",
     "text": [
      "Epoch 26/100: 100%|██████████| 250/250 [00:26<00:00,  9.40it/s, Loss=0.185] \n"
     ]
    },
    {
     "name": "stdout",
     "output_type": "stream",
     "text": [
      "Epoch 26 Training Finished. Average Loss: 0.1095\n",
      "Epoch 26 Test Results:\n",
      "              precision    recall  f1-score   support\n",
      "\n",
      "         0.0       0.88      0.93      0.90     12500\n",
      "         1.0       0.92      0.87      0.90     12500\n",
      "\n",
      "    accuracy                           0.90     25000\n",
      "   macro avg       0.90      0.90      0.90     25000\n",
      "weighted avg       0.90      0.90      0.90     25000\n",
      "\n",
      "准确率: 0.89888\n",
      "AUC: 0.9629832768000001\n"
     ]
    },
    {
     "name": "stderr",
     "output_type": "stream",
     "text": [
      "Epoch 27/100: 100%|██████████| 250/250 [00:26<00:00,  9.39it/s, Loss=0.0303]\n"
     ]
    },
    {
     "name": "stdout",
     "output_type": "stream",
     "text": [
      "Epoch 27 Training Finished. Average Loss: 0.0927\n",
      "Epoch 27 Test Results:\n",
      "              precision    recall  f1-score   support\n",
      "\n",
      "         0.0       0.86      0.94      0.90     12500\n",
      "         1.0       0.93      0.85      0.89     12500\n",
      "\n",
      "    accuracy                           0.89     25000\n",
      "   macro avg       0.90      0.89      0.89     25000\n",
      "weighted avg       0.90      0.89      0.89     25000\n",
      "\n",
      "准确率: 0.89396\n",
      "AUC: 0.9613799264\n"
     ]
    },
    {
     "name": "stderr",
     "output_type": "stream",
     "text": [
      "Epoch 28/100: 100%|██████████| 250/250 [00:26<00:00,  9.49it/s, Loss=0.165] \n"
     ]
    },
    {
     "name": "stdout",
     "output_type": "stream",
     "text": [
      "Epoch 28 Training Finished. Average Loss: 0.0836\n",
      "Epoch 28 Test Results:\n",
      "              precision    recall  f1-score   support\n",
      "\n",
      "         0.0       0.94      0.83      0.88     12500\n",
      "         1.0       0.85      0.95      0.90     12500\n",
      "\n",
      "    accuracy                           0.89     25000\n",
      "   macro avg       0.89      0.89      0.89     25000\n",
      "weighted avg       0.89      0.89      0.89     25000\n",
      "\n",
      "准确率: 0.88944\n",
      "AUC: 0.9600562816\n"
     ]
    },
    {
     "name": "stderr",
     "output_type": "stream",
     "text": [
      "Epoch 29/100: 100%|██████████| 250/250 [00:26<00:00,  9.36it/s, Loss=0.0624]\n"
     ]
    },
    {
     "name": "stdout",
     "output_type": "stream",
     "text": [
      "Epoch 29 Training Finished. Average Loss: 0.0645\n",
      "Epoch 29 Test Results:\n",
      "              precision    recall  f1-score   support\n",
      "\n",
      "         0.0       0.89      0.91      0.90     12500\n",
      "         1.0       0.91      0.89      0.90     12500\n",
      "\n",
      "    accuracy                           0.90     25000\n",
      "   macro avg       0.90      0.90      0.90     25000\n",
      "weighted avg       0.90      0.90      0.90     25000\n",
      "\n",
      "准确率: 0.90236\n",
      "AUC: 0.9593847776\n"
     ]
    },
    {
     "name": "stderr",
     "output_type": "stream",
     "text": [
      "Epoch 30/100: 100%|██████████| 250/250 [00:26<00:00,  9.52it/s, Loss=0.0504]\n"
     ]
    },
    {
     "name": "stdout",
     "output_type": "stream",
     "text": [
      "Epoch 30 Training Finished. Average Loss: 0.0614\n",
      "Epoch 30 Test Results:\n",
      "              precision    recall  f1-score   support\n",
      "\n",
      "         0.0       0.87      0.93      0.90     12500\n",
      "         1.0       0.92      0.86      0.89     12500\n",
      "\n",
      "    accuracy                           0.89     25000\n",
      "   macro avg       0.90      0.89      0.89     25000\n",
      "weighted avg       0.90      0.89      0.89     25000\n",
      "\n",
      "准确率: 0.89308\n",
      "AUC: 0.9581952224\n"
     ]
    },
    {
     "name": "stderr",
     "output_type": "stream",
     "text": [
      "Epoch 31/100: 100%|██████████| 250/250 [00:27<00:00,  9.22it/s, Loss=0.049]  \n"
     ]
    },
    {
     "name": "stdout",
     "output_type": "stream",
     "text": [
      "Epoch 31 Training Finished. Average Loss: 0.0507\n",
      "Epoch 31 Test Results:\n",
      "              precision    recall  f1-score   support\n",
      "\n",
      "         0.0       0.92      0.87      0.89     12500\n",
      "         1.0       0.88      0.92      0.90     12500\n",
      "\n",
      "    accuracy                           0.90     25000\n",
      "   macro avg       0.90      0.90      0.90     25000\n",
      "weighted avg       0.90      0.90      0.90     25000\n",
      "\n",
      "准确率: 0.897\n",
      "AUC: 0.9568959456\n"
     ]
    },
    {
     "name": "stderr",
     "output_type": "stream",
     "text": [
      "Epoch 32/100: 100%|██████████| 250/250 [00:26<00:00,  9.37it/s, Loss=0.021]  \n"
     ]
    },
    {
     "name": "stdout",
     "output_type": "stream",
     "text": [
      "Epoch 32 Training Finished. Average Loss: 0.0467\n",
      "Epoch 32 Test Results:\n",
      "              precision    recall  f1-score   support\n",
      "\n",
      "         0.0       0.90      0.90      0.90     12500\n",
      "         1.0       0.90      0.90      0.90     12500\n",
      "\n",
      "    accuracy                           0.90     25000\n",
      "   macro avg       0.90      0.90      0.90     25000\n",
      "weighted avg       0.90      0.90      0.90     25000\n",
      "\n",
      "准确率: 0.8986\n",
      "AUC: 0.9550479519999999\n"
     ]
    },
    {
     "name": "stderr",
     "output_type": "stream",
     "text": [
      "Epoch 33/100: 100%|██████████| 250/250 [00:26<00:00,  9.29it/s, Loss=0.0123] \n"
     ]
    },
    {
     "name": "stdout",
     "output_type": "stream",
     "text": [
      "Epoch 33 Training Finished. Average Loss: 0.0406\n",
      "Epoch 33 Test Results:\n",
      "              precision    recall  f1-score   support\n",
      "\n",
      "         0.0       0.91      0.89      0.90     12500\n",
      "         1.0       0.89      0.91      0.90     12500\n",
      "\n",
      "    accuracy                           0.90     25000\n",
      "   macro avg       0.90      0.90      0.90     25000\n",
      "weighted avg       0.90      0.90      0.90     25000\n",
      "\n",
      "准确率: 0.89812\n",
      "AUC: 0.9548727936\n"
     ]
    },
    {
     "name": "stderr",
     "output_type": "stream",
     "text": [
      "Epoch 34/100: 100%|██████████| 250/250 [00:26<00:00,  9.39it/s, Loss=0.0293] \n"
     ]
    },
    {
     "name": "stdout",
     "output_type": "stream",
     "text": [
      "Epoch 34 Training Finished. Average Loss: 0.0329\n",
      "Epoch 34 Test Results:\n",
      "              precision    recall  f1-score   support\n",
      "\n",
      "         0.0       0.90      0.89      0.90     12500\n",
      "         1.0       0.89      0.90      0.90     12500\n",
      "\n",
      "    accuracy                           0.90     25000\n",
      "   macro avg       0.90      0.90      0.90     25000\n",
      "weighted avg       0.90      0.90      0.90     25000\n",
      "\n",
      "准确率: 0.89636\n",
      "AUC: 0.9523342719999999\n"
     ]
    },
    {
     "name": "stderr",
     "output_type": "stream",
     "text": [
      "Epoch 35/100: 100%|██████████| 250/250 [00:26<00:00,  9.50it/s, Loss=0.0705] \n"
     ]
    },
    {
     "name": "stdout",
     "output_type": "stream",
     "text": [
      "Epoch 35 Training Finished. Average Loss: 0.0343\n",
      "Epoch 35 Test Results:\n",
      "              precision    recall  f1-score   support\n",
      "\n",
      "         0.0       0.90      0.89      0.90     12500\n",
      "         1.0       0.90      0.90      0.90     12500\n",
      "\n",
      "    accuracy                           0.90     25000\n",
      "   macro avg       0.90      0.90      0.90     25000\n",
      "weighted avg       0.90      0.90      0.90     25000\n",
      "\n",
      "准确率: 0.89852\n",
      "AUC: 0.9532839296000001\n"
     ]
    },
    {
     "name": "stderr",
     "output_type": "stream",
     "text": [
      "Epoch 36/100: 100%|██████████| 250/250 [00:26<00:00,  9.35it/s, Loss=0.0107] \n"
     ]
    },
    {
     "name": "stdout",
     "output_type": "stream",
     "text": [
      "Epoch 36 Training Finished. Average Loss: 0.0308\n",
      "Epoch 36 Test Results:\n",
      "              precision    recall  f1-score   support\n",
      "\n",
      "         0.0       0.90      0.89      0.90     12500\n",
      "         1.0       0.89      0.90      0.90     12500\n",
      "\n",
      "    accuracy                           0.90     25000\n",
      "   macro avg       0.90      0.90      0.90     25000\n",
      "weighted avg       0.90      0.90      0.90     25000\n",
      "\n",
      "准确率: 0.89692\n",
      "AUC: 0.9519570368000001\n"
     ]
    },
    {
     "name": "stderr",
     "output_type": "stream",
     "text": [
      "Epoch 37/100: 100%|██████████| 250/250 [00:27<00:00,  9.18it/s, Loss=0.0199] \n"
     ]
    },
    {
     "name": "stdout",
     "output_type": "stream",
     "text": [
      "Epoch 37 Training Finished. Average Loss: 0.0341\n",
      "Epoch 37 Test Results:\n",
      "              precision    recall  f1-score   support\n",
      "\n",
      "         0.0       0.89      0.90      0.90     12500\n",
      "         1.0       0.90      0.89      0.90     12500\n",
      "\n",
      "    accuracy                           0.90     25000\n",
      "   macro avg       0.90      0.90      0.90     25000\n",
      "weighted avg       0.90      0.90      0.90     25000\n",
      "\n",
      "准确率: 0.8982\n",
      "AUC: 0.95163344\n"
     ]
    },
    {
     "name": "stderr",
     "output_type": "stream",
     "text": [
      "Epoch 38/100: 100%|██████████| 250/250 [00:26<00:00,  9.31it/s, Loss=0.0612] \n"
     ]
    },
    {
     "name": "stdout",
     "output_type": "stream",
     "text": [
      "Epoch 38 Training Finished. Average Loss: 0.0337\n",
      "Epoch 38 Test Results:\n",
      "              precision    recall  f1-score   support\n",
      "\n",
      "         0.0       0.91      0.87      0.89     12500\n",
      "         1.0       0.87      0.92      0.90     12500\n",
      "\n",
      "    accuracy                           0.89     25000\n",
      "   macro avg       0.89      0.89      0.89     25000\n",
      "weighted avg       0.89      0.89      0.89     25000\n",
      "\n",
      "准确率: 0.89344\n",
      "AUC: 0.9521259968\n"
     ]
    },
    {
     "name": "stderr",
     "output_type": "stream",
     "text": [
      "Epoch 39/100: 100%|██████████| 250/250 [00:26<00:00,  9.30it/s, Loss=0.0225] \n"
     ]
    },
    {
     "name": "stdout",
     "output_type": "stream",
     "text": [
      "Epoch 39 Training Finished. Average Loss: 0.0247\n",
      "Epoch 39 Test Results:\n",
      "              precision    recall  f1-score   support\n",
      "\n",
      "         0.0       0.90      0.89      0.90     12500\n",
      "         1.0       0.89      0.90      0.90     12500\n",
      "\n",
      "    accuracy                           0.90     25000\n",
      "   macro avg       0.90      0.90      0.90     25000\n",
      "weighted avg       0.90      0.90      0.90     25000\n",
      "\n",
      "准确率: 0.89796\n",
      "AUC: 0.9522166336\n"
     ]
    },
    {
     "name": "stderr",
     "output_type": "stream",
     "text": [
      "Epoch 40/100: 100%|██████████| 250/250 [00:26<00:00,  9.33it/s, Loss=0.00483]\n"
     ]
    },
    {
     "name": "stdout",
     "output_type": "stream",
     "text": [
      "Epoch 40 Training Finished. Average Loss: 0.0154\n",
      "Epoch 40 Test Results:\n",
      "              precision    recall  f1-score   support\n",
      "\n",
      "         0.0       0.91      0.88      0.90     12500\n",
      "         1.0       0.89      0.91      0.90     12500\n",
      "\n",
      "    accuracy                           0.90     25000\n",
      "   macro avg       0.90      0.90      0.90     25000\n",
      "weighted avg       0.90      0.90      0.90     25000\n",
      "\n",
      "准确率: 0.897\n",
      "AUC: 0.9503111903999999\n"
     ]
    },
    {
     "name": "stderr",
     "output_type": "stream",
     "text": [
      "Epoch 41/100: 100%|██████████| 250/250 [00:26<00:00,  9.38it/s, Loss=0.00638]\n"
     ]
    },
    {
     "name": "stdout",
     "output_type": "stream",
     "text": [
      "Epoch 41 Training Finished. Average Loss: 0.0243\n",
      "Epoch 41 Test Results:\n",
      "              precision    recall  f1-score   support\n",
      "\n",
      "         0.0       0.90      0.89      0.89     12500\n",
      "         1.0       0.89      0.90      0.89     12500\n",
      "\n",
      "    accuracy                           0.89     25000\n",
      "   macro avg       0.89      0.89      0.89     25000\n",
      "weighted avg       0.89      0.89      0.89     25000\n",
      "\n",
      "准确率: 0.89424\n",
      "AUC: 0.9492666111999999\n"
     ]
    },
    {
     "name": "stderr",
     "output_type": "stream",
     "text": [
      "Epoch 42/100: 100%|██████████| 250/250 [00:26<00:00,  9.42it/s, Loss=0.0836] \n"
     ]
    },
    {
     "name": "stdout",
     "output_type": "stream",
     "text": [
      "Epoch 42 Training Finished. Average Loss: 0.0227\n",
      "Epoch 42 Test Results:\n",
      "              precision    recall  f1-score   support\n",
      "\n",
      "         0.0       0.89      0.90      0.89     12500\n",
      "         1.0       0.90      0.89      0.89     12500\n",
      "\n",
      "    accuracy                           0.89     25000\n",
      "   macro avg       0.89      0.89      0.89     25000\n",
      "weighted avg       0.89      0.89      0.89     25000\n",
      "\n",
      "准确率: 0.89328\n",
      "AUC: 0.9515655903999999\n"
     ]
    },
    {
     "name": "stderr",
     "output_type": "stream",
     "text": [
      "Epoch 43/100: 100%|██████████| 250/250 [00:27<00:00,  9.18it/s, Loss=0.018]  \n"
     ]
    },
    {
     "name": "stdout",
     "output_type": "stream",
     "text": [
      "Epoch 43 Training Finished. Average Loss: 0.0203\n",
      "Epoch 43 Test Results:\n",
      "              precision    recall  f1-score   support\n",
      "\n",
      "         0.0       0.85      0.94      0.89     12500\n",
      "         1.0       0.93      0.83      0.88     12500\n",
      "\n",
      "    accuracy                           0.89     25000\n",
      "   macro avg       0.89      0.89      0.88     25000\n",
      "weighted avg       0.89      0.89      0.88     25000\n",
      "\n",
      "准确率: 0.88516\n",
      "AUC: 0.9492343520000001\n"
     ]
    },
    {
     "name": "stderr",
     "output_type": "stream",
     "text": [
      "Epoch 44/100: 100%|██████████| 250/250 [00:26<00:00,  9.43it/s, Loss=0.0029] \n"
     ]
    },
    {
     "name": "stdout",
     "output_type": "stream",
     "text": [
      "Epoch 44 Training Finished. Average Loss: 0.0140\n",
      "Epoch 44 Test Results:\n",
      "              precision    recall  f1-score   support\n",
      "\n",
      "         0.0       0.89      0.90      0.89     12500\n",
      "         1.0       0.90      0.89      0.89     12500\n",
      "\n",
      "    accuracy                           0.89     25000\n",
      "   macro avg       0.89      0.89      0.89     25000\n",
      "weighted avg       0.89      0.89      0.89     25000\n",
      "\n",
      "准确率: 0.89452\n",
      "AUC: 0.9499489216\n"
     ]
    },
    {
     "name": "stderr",
     "output_type": "stream",
     "text": [
      "Epoch 45/100: 100%|██████████| 250/250 [00:26<00:00,  9.27it/s, Loss=0.00484]\n"
     ]
    },
    {
     "name": "stdout",
     "output_type": "stream",
     "text": [
      "Epoch 45 Training Finished. Average Loss: 0.0123\n",
      "Epoch 45 Test Results:\n",
      "              precision    recall  f1-score   support\n",
      "\n",
      "         0.0       0.90      0.90      0.90     12500\n",
      "         1.0       0.90      0.90      0.90     12500\n",
      "\n",
      "    accuracy                           0.90     25000\n",
      "   macro avg       0.90      0.90      0.90     25000\n",
      "weighted avg       0.90      0.90      0.90     25000\n",
      "\n",
      "准确率: 0.89596\n",
      "AUC: 0.9492182175999999\n"
     ]
    },
    {
     "name": "stderr",
     "output_type": "stream",
     "text": [
      "Epoch 46/100: 100%|██████████| 250/250 [00:26<00:00,  9.33it/s, Loss=0.0023]  \n"
     ]
    },
    {
     "name": "stdout",
     "output_type": "stream",
     "text": [
      "Epoch 46 Training Finished. Average Loss: 0.0138\n",
      "Epoch 46 Test Results:\n",
      "              precision    recall  f1-score   support\n",
      "\n",
      "         0.0       0.89      0.89      0.89     12500\n",
      "         1.0       0.89      0.90      0.89     12500\n",
      "\n",
      "    accuracy                           0.89     25000\n",
      "   macro avg       0.89      0.89      0.89     25000\n",
      "weighted avg       0.89      0.89      0.89     25000\n",
      "\n",
      "准确率: 0.8934\n",
      "AUC: 0.9492051584\n"
     ]
    },
    {
     "name": "stderr",
     "output_type": "stream",
     "text": [
      "Epoch 47/100: 100%|██████████| 250/250 [00:26<00:00,  9.27it/s, Loss=0.00966]\n"
     ]
    },
    {
     "name": "stdout",
     "output_type": "stream",
     "text": [
      "Epoch 47 Training Finished. Average Loss: 0.0246\n",
      "Epoch 47 Test Results:\n",
      "              precision    recall  f1-score   support\n",
      "\n",
      "         0.0       0.87      0.92      0.89     12500\n",
      "         1.0       0.92      0.86      0.89     12500\n",
      "\n",
      "    accuracy                           0.89     25000\n",
      "   macro avg       0.89      0.89      0.89     25000\n",
      "weighted avg       0.89      0.89      0.89     25000\n",
      "\n",
      "准确率: 0.89052\n",
      "AUC: 0.9477771743999999\n"
     ]
    },
    {
     "name": "stderr",
     "output_type": "stream",
     "text": [
      "Epoch 48/100: 100%|██████████| 250/250 [00:26<00:00,  9.41it/s, Loss=0.0079] \n"
     ]
    },
    {
     "name": "stdout",
     "output_type": "stream",
     "text": [
      "Epoch 48 Training Finished. Average Loss: 0.0153\n",
      "Epoch 48 Test Results:\n",
      "              precision    recall  f1-score   support\n",
      "\n",
      "         0.0       0.93      0.84      0.88     12500\n",
      "         1.0       0.86      0.93      0.89     12500\n",
      "\n",
      "    accuracy                           0.89     25000\n",
      "   macro avg       0.89      0.89      0.89     25000\n",
      "weighted avg       0.89      0.89      0.89     25000\n",
      "\n",
      "准确率: 0.8882\n",
      "AUC: 0.9442115744000001\n"
     ]
    },
    {
     "name": "stderr",
     "output_type": "stream",
     "text": [
      "Epoch 49/100: 100%|██████████| 250/250 [00:26<00:00,  9.43it/s, Loss=0.00151] \n"
     ]
    },
    {
     "name": "stdout",
     "output_type": "stream",
     "text": [
      "Epoch 49 Training Finished. Average Loss: 0.0107\n",
      "Epoch 49 Test Results:\n",
      "              precision    recall  f1-score   support\n",
      "\n",
      "         0.0       0.89      0.90      0.90     12500\n",
      "         1.0       0.90      0.89      0.89     12500\n",
      "\n",
      "    accuracy                           0.89     25000\n",
      "   macro avg       0.89      0.89      0.89     25000\n",
      "weighted avg       0.89      0.89      0.89     25000\n",
      "\n",
      "准确率: 0.8948\n",
      "AUC: 0.9491790368\n"
     ]
    },
    {
     "name": "stderr",
     "output_type": "stream",
     "text": [
      "Epoch 50/100: 100%|██████████| 250/250 [00:26<00:00,  9.45it/s, Loss=0.0441]  \n"
     ]
    },
    {
     "name": "stdout",
     "output_type": "stream",
     "text": [
      "Epoch 50 Training Finished. Average Loss: 0.0111\n",
      "Epoch 50 Test Results:\n",
      "              precision    recall  f1-score   support\n",
      "\n",
      "         0.0       0.93      0.82      0.87     12500\n",
      "         1.0       0.84      0.94      0.89     12500\n",
      "\n",
      "    accuracy                           0.88     25000\n",
      "   macro avg       0.89      0.88      0.88     25000\n",
      "weighted avg       0.89      0.88      0.88     25000\n",
      "\n",
      "准确率: 0.87988\n",
      "AUC: 0.9404140096\n"
     ]
    },
    {
     "name": "stderr",
     "output_type": "stream",
     "text": [
      "Epoch 51/100: 100%|██████████| 250/250 [00:26<00:00,  9.43it/s, Loss=0.00329] \n"
     ]
    },
    {
     "name": "stdout",
     "output_type": "stream",
     "text": [
      "Epoch 51 Training Finished. Average Loss: 0.0189\n",
      "Epoch 51 Test Results:\n",
      "              precision    recall  f1-score   support\n",
      "\n",
      "         0.0       0.90      0.89      0.90     12500\n",
      "         1.0       0.89      0.91      0.90     12500\n",
      "\n",
      "    accuracy                           0.90     25000\n",
      "   macro avg       0.90      0.90      0.90     25000\n",
      "weighted avg       0.90      0.90      0.90     25000\n",
      "\n",
      "准确率: 0.8972\n",
      "AUC: 0.9488658527999999\n"
     ]
    },
    {
     "name": "stderr",
     "output_type": "stream",
     "text": [
      "Epoch 52/100: 100%|██████████| 250/250 [00:26<00:00,  9.34it/s, Loss=0.00254] \n"
     ]
    },
    {
     "name": "stdout",
     "output_type": "stream",
     "text": [
      "Epoch 52 Training Finished. Average Loss: 0.0074\n",
      "Epoch 52 Test Results:\n",
      "              precision    recall  f1-score   support\n",
      "\n",
      "         0.0       0.86      0.92      0.89     12500\n",
      "         1.0       0.92      0.86      0.89     12500\n",
      "\n",
      "    accuracy                           0.89     25000\n",
      "   macro avg       0.89      0.89      0.89     25000\n",
      "weighted avg       0.89      0.89      0.89     25000\n",
      "\n",
      "准确率: 0.88952\n",
      "AUC: 0.9472821280000001\n"
     ]
    },
    {
     "name": "stderr",
     "output_type": "stream",
     "text": [
      "Epoch 53/100: 100%|██████████| 250/250 [00:26<00:00,  9.42it/s, Loss=0.00143] \n"
     ]
    },
    {
     "name": "stdout",
     "output_type": "stream",
     "text": [
      "Epoch 53 Training Finished. Average Loss: 0.0067\n",
      "Epoch 53 Test Results:\n",
      "              precision    recall  f1-score   support\n",
      "\n",
      "         0.0       0.89      0.91      0.90     12500\n",
      "         1.0       0.90      0.89      0.90     12500\n",
      "\n",
      "    accuracy                           0.90     25000\n",
      "   macro avg       0.90      0.90      0.90     25000\n",
      "weighted avg       0.90      0.90      0.90     25000\n",
      "\n",
      "准确率: 0.89628\n",
      "AUC: 0.9476167936\n"
     ]
    },
    {
     "name": "stderr",
     "output_type": "stream",
     "text": [
      "Epoch 54/100: 100%|██████████| 250/250 [00:26<00:00,  9.27it/s, Loss=0.00175] \n"
     ]
    },
    {
     "name": "stdout",
     "output_type": "stream",
     "text": [
      "Epoch 54 Training Finished. Average Loss: 0.0083\n",
      "Epoch 54 Test Results:\n",
      "              precision    recall  f1-score   support\n",
      "\n",
      "         0.0       0.89      0.90      0.90     12500\n",
      "         1.0       0.90      0.88      0.89     12500\n",
      "\n",
      "    accuracy                           0.89     25000\n",
      "   macro avg       0.89      0.89      0.89     25000\n",
      "weighted avg       0.89      0.89      0.89     25000\n",
      "\n",
      "准确率: 0.89448\n",
      "AUC: 0.9495796736000001\n"
     ]
    },
    {
     "name": "stderr",
     "output_type": "stream",
     "text": [
      "Epoch 55/100: 100%|██████████| 250/250 [00:26<00:00,  9.32it/s, Loss=0.0103]  \n"
     ]
    },
    {
     "name": "stdout",
     "output_type": "stream",
     "text": [
      "Epoch 55 Training Finished. Average Loss: 0.0082\n",
      "Epoch 55 Test Results:\n",
      "              precision    recall  f1-score   support\n",
      "\n",
      "         0.0       0.91      0.88      0.89     12500\n",
      "         1.0       0.88      0.91      0.90     12500\n",
      "\n",
      "    accuracy                           0.90     25000\n",
      "   macro avg       0.90      0.90      0.90     25000\n",
      "weighted avg       0.90      0.90      0.90     25000\n",
      "\n",
      "准确率: 0.89524\n",
      "AUC: 0.948201504\n"
     ]
    },
    {
     "name": "stderr",
     "output_type": "stream",
     "text": [
      "Epoch 56/100: 100%|██████████| 250/250 [00:26<00:00,  9.42it/s, Loss=0.0138]  \n"
     ]
    },
    {
     "name": "stdout",
     "output_type": "stream",
     "text": [
      "Epoch 56 Training Finished. Average Loss: 0.0172\n",
      "Epoch 56 Test Results:\n",
      "              precision    recall  f1-score   support\n",
      "\n",
      "         0.0       0.89      0.91      0.90     12500\n",
      "         1.0       0.90      0.89      0.89     12500\n",
      "\n",
      "    accuracy                           0.90     25000\n",
      "   macro avg       0.90      0.90      0.90     25000\n",
      "weighted avg       0.90      0.90      0.90     25000\n",
      "\n",
      "准确率: 0.89564\n",
      "AUC: 0.9471908224\n"
     ]
    },
    {
     "name": "stderr",
     "output_type": "stream",
     "text": [
      "Epoch 57/100: 100%|██████████| 250/250 [00:26<00:00,  9.33it/s, Loss=0.00134] \n"
     ]
    },
    {
     "name": "stdout",
     "output_type": "stream",
     "text": [
      "Epoch 57 Training Finished. Average Loss: 0.0036\n",
      "Epoch 57 Test Results:\n",
      "              precision    recall  f1-score   support\n",
      "\n",
      "         0.0       0.88      0.91      0.90     12500\n",
      "         1.0       0.91      0.88      0.89     12500\n",
      "\n",
      "    accuracy                           0.89     25000\n",
      "   macro avg       0.89      0.89      0.89     25000\n",
      "weighted avg       0.89      0.89      0.89     25000\n",
      "\n",
      "准确率: 0.89436\n",
      "AUC: 0.9489848544\n"
     ]
    },
    {
     "name": "stderr",
     "output_type": "stream",
     "text": [
      "Epoch 58/100: 100%|██████████| 250/250 [00:26<00:00,  9.45it/s, Loss=0.00045] \n"
     ]
    },
    {
     "name": "stdout",
     "output_type": "stream",
     "text": [
      "Epoch 58 Training Finished. Average Loss: 0.0019\n",
      "Epoch 58 Test Results:\n",
      "              precision    recall  f1-score   support\n",
      "\n",
      "         0.0       0.90      0.90      0.90     12500\n",
      "         1.0       0.90      0.90      0.90     12500\n",
      "\n",
      "    accuracy                           0.90     25000\n",
      "   macro avg       0.90      0.90      0.90     25000\n",
      "weighted avg       0.90      0.90      0.90     25000\n",
      "\n",
      "准确率: 0.89876\n",
      "AUC: 0.9495509216\n"
     ]
    },
    {
     "name": "stderr",
     "output_type": "stream",
     "text": [
      "Epoch 59/100: 100%|██████████| 250/250 [00:27<00:00,  9.24it/s, Loss=0.000452]\n"
     ]
    },
    {
     "name": "stdout",
     "output_type": "stream",
     "text": [
      "Epoch 59 Training Finished. Average Loss: 0.0013\n",
      "Epoch 59 Test Results:\n",
      "              precision    recall  f1-score   support\n",
      "\n",
      "         0.0       0.90      0.89      0.90     12500\n",
      "         1.0       0.89      0.90      0.90     12500\n",
      "\n",
      "    accuracy                           0.90     25000\n",
      "   macro avg       0.90      0.90      0.90     25000\n",
      "weighted avg       0.90      0.90      0.90     25000\n",
      "\n",
      "准确率: 0.89832\n",
      "AUC: 0.9481613151999999\n"
     ]
    },
    {
     "name": "stderr",
     "output_type": "stream",
     "text": [
      "Epoch 60/100: 100%|██████████| 250/250 [00:26<00:00,  9.47it/s, Loss=0.000162]\n"
     ]
    },
    {
     "name": "stdout",
     "output_type": "stream",
     "text": [
      "Epoch 60 Training Finished. Average Loss: 0.0009\n",
      "Epoch 60 Test Results:\n",
      "              precision    recall  f1-score   support\n",
      "\n",
      "         0.0       0.89      0.90      0.90     12500\n",
      "         1.0       0.90      0.89      0.90     12500\n",
      "\n",
      "    accuracy                           0.90     25000\n",
      "   macro avg       0.90      0.90      0.90     25000\n",
      "weighted avg       0.90      0.90      0.90     25000\n",
      "\n",
      "准确率: 0.89784\n",
      "AUC: 0.9485820096\n"
     ]
    },
    {
     "name": "stderr",
     "output_type": "stream",
     "text": [
      "Epoch 61/100: 100%|██████████| 250/250 [00:26<00:00,  9.36it/s, Loss=0.000638]\n"
     ]
    },
    {
     "name": "stdout",
     "output_type": "stream",
     "text": [
      "Epoch 61 Training Finished. Average Loss: 0.0007\n",
      "Epoch 61 Test Results:\n",
      "              precision    recall  f1-score   support\n",
      "\n",
      "         0.0       0.90      0.90      0.90     12500\n",
      "         1.0       0.90      0.90      0.90     12500\n",
      "\n",
      "    accuracy                           0.90     25000\n",
      "   macro avg       0.90      0.90      0.90     25000\n",
      "weighted avg       0.90      0.90      0.90     25000\n",
      "\n",
      "准确率: 0.89776\n",
      "AUC: 0.9476767136000002\n"
     ]
    },
    {
     "name": "stderr",
     "output_type": "stream",
     "text": [
      "Epoch 62/100: 100%|██████████| 250/250 [00:26<00:00,  9.46it/s, Loss=0.000325]\n"
     ]
    },
    {
     "name": "stdout",
     "output_type": "stream",
     "text": [
      "Epoch 62 Training Finished. Average Loss: 0.0005\n",
      "Epoch 62 Test Results:\n",
      "              precision    recall  f1-score   support\n",
      "\n",
      "         0.0       0.90      0.89      0.90     12500\n",
      "         1.0       0.89      0.91      0.90     12500\n",
      "\n",
      "    accuracy                           0.90     25000\n",
      "   macro avg       0.90      0.90      0.90     25000\n",
      "weighted avg       0.90      0.90      0.90     25000\n",
      "\n",
      "准确率: 0.8978\n",
      "AUC: 0.9476908224000001\n"
     ]
    },
    {
     "name": "stderr",
     "output_type": "stream",
     "text": [
      "Epoch 63/100: 100%|██████████| 250/250 [00:26<00:00,  9.45it/s, Loss=0.000254]\n"
     ]
    },
    {
     "name": "stdout",
     "output_type": "stream",
     "text": [
      "Epoch 63 Training Finished. Average Loss: 0.0004\n",
      "Epoch 63 Test Results:\n",
      "              precision    recall  f1-score   support\n",
      "\n",
      "         0.0       0.90      0.90      0.90     12500\n",
      "         1.0       0.90      0.90      0.90     12500\n",
      "\n",
      "    accuracy                           0.90     25000\n",
      "   macro avg       0.90      0.90      0.90     25000\n",
      "weighted avg       0.90      0.90      0.90     25000\n",
      "\n",
      "准确率: 0.89768\n",
      "AUC: 0.9477081984\n"
     ]
    },
    {
     "name": "stderr",
     "output_type": "stream",
     "text": [
      "Epoch 64/100: 100%|██████████| 250/250 [00:26<00:00,  9.31it/s, Loss=0.000128]\n"
     ]
    },
    {
     "name": "stdout",
     "output_type": "stream",
     "text": [
      "Epoch 64 Training Finished. Average Loss: 0.0003\n",
      "Epoch 64 Test Results:\n",
      "              precision    recall  f1-score   support\n",
      "\n",
      "         0.0       0.90      0.90      0.90     12500\n",
      "         1.0       0.90      0.90      0.90     12500\n",
      "\n",
      "    accuracy                           0.90     25000\n",
      "   macro avg       0.90      0.90      0.90     25000\n",
      "weighted avg       0.90      0.90      0.90     25000\n",
      "\n",
      "准确率: 0.89704\n",
      "AUC: 0.9475709536000001\n"
     ]
    },
    {
     "name": "stderr",
     "output_type": "stream",
     "text": [
      "Epoch 65/100: 100%|██████████| 250/250 [00:26<00:00,  9.34it/s, Loss=0.000257]\n"
     ]
    },
    {
     "name": "stdout",
     "output_type": "stream",
     "text": [
      "Epoch 65 Training Finished. Average Loss: 0.0002\n",
      "Epoch 65 Test Results:\n",
      "              precision    recall  f1-score   support\n",
      "\n",
      "         0.0       0.90      0.89      0.90     12500\n",
      "         1.0       0.89      0.90      0.90     12500\n",
      "\n",
      "    accuracy                           0.90     25000\n",
      "   macro avg       0.90      0.90      0.90     25000\n",
      "weighted avg       0.90      0.90      0.90     25000\n",
      "\n",
      "准确率: 0.89704\n",
      "AUC: 0.9474555168000001\n"
     ]
    },
    {
     "name": "stderr",
     "output_type": "stream",
     "text": [
      "Epoch 66/100: 100%|██████████| 250/250 [00:26<00:00,  9.33it/s, Loss=0.000164]\n"
     ]
    },
    {
     "name": "stdout",
     "output_type": "stream",
     "text": [
      "Epoch 66 Training Finished. Average Loss: 0.0002\n",
      "Epoch 66 Test Results:\n",
      "              precision    recall  f1-score   support\n",
      "\n",
      "         0.0       0.90      0.89      0.90     12500\n",
      "         1.0       0.89      0.90      0.90     12500\n",
      "\n",
      "    accuracy                           0.90     25000\n",
      "   macro avg       0.90      0.90      0.90     25000\n",
      "weighted avg       0.90      0.90      0.90     25000\n",
      "\n",
      "准确率: 0.8972\n",
      "AUC: 0.9477702975999999\n"
     ]
    },
    {
     "name": "stderr",
     "output_type": "stream",
     "text": [
      "Epoch 67/100: 100%|██████████| 250/250 [00:26<00:00,  9.28it/s, Loss=0.000192]\n"
     ]
    },
    {
     "name": "stdout",
     "output_type": "stream",
     "text": [
      "Epoch 67 Training Finished. Average Loss: 0.0002\n",
      "Epoch 67 Test Results:\n",
      "              precision    recall  f1-score   support\n",
      "\n",
      "         0.0       0.90      0.90      0.90     12500\n",
      "         1.0       0.90      0.90      0.90     12500\n",
      "\n",
      "    accuracy                           0.90     25000\n",
      "   macro avg       0.90      0.90      0.90     25000\n",
      "weighted avg       0.90      0.90      0.90     25000\n",
      "\n",
      "准确率: 0.89704\n",
      "AUC: 0.9475288544000001\n"
     ]
    },
    {
     "name": "stderr",
     "output_type": "stream",
     "text": [
      "Epoch 68/100: 100%|██████████| 250/250 [00:26<00:00,  9.27it/s, Loss=6.83e-5] \n"
     ]
    },
    {
     "name": "stdout",
     "output_type": "stream",
     "text": [
      "Epoch 68 Training Finished. Average Loss: 0.0001\n",
      "Epoch 68 Test Results:\n",
      "              precision    recall  f1-score   support\n",
      "\n",
      "         0.0       0.90      0.89      0.90     12500\n",
      "         1.0       0.89      0.90      0.90     12500\n",
      "\n",
      "    accuracy                           0.90     25000\n",
      "   macro avg       0.90      0.90      0.90     25000\n",
      "weighted avg       0.90      0.90      0.90     25000\n",
      "\n",
      "准确率: 0.89632\n",
      "AUC: 0.9477736512\n"
     ]
    },
    {
     "name": "stderr",
     "output_type": "stream",
     "text": [
      "Epoch 69/100: 100%|██████████| 250/250 [00:26<00:00,  9.61it/s, Loss=0.000139]\n"
     ]
    },
    {
     "name": "stdout",
     "output_type": "stream",
     "text": [
      "Epoch 69 Training Finished. Average Loss: 0.0001\n",
      "Epoch 69 Test Results:\n",
      "              precision    recall  f1-score   support\n",
      "\n",
      "         0.0       0.90      0.89      0.90     12500\n",
      "         1.0       0.89      0.90      0.90     12500\n",
      "\n",
      "    accuracy                           0.90     25000\n",
      "   macro avg       0.90      0.90      0.90     25000\n",
      "weighted avg       0.90      0.90      0.90     25000\n",
      "\n",
      "准确率: 0.89592\n",
      "AUC: 0.9476747967999999\n"
     ]
    },
    {
     "name": "stderr",
     "output_type": "stream",
     "text": [
      "Epoch 70/100: 100%|██████████| 250/250 [00:26<00:00,  9.31it/s, Loss=0.000133]\n"
     ]
    },
    {
     "name": "stdout",
     "output_type": "stream",
     "text": [
      "Epoch 70 Training Finished. Average Loss: 0.0001\n",
      "Epoch 70 Test Results:\n",
      "              precision    recall  f1-score   support\n",
      "\n",
      "         0.0       0.90      0.89      0.90     12500\n",
      "         1.0       0.89      0.90      0.90     12500\n",
      "\n",
      "    accuracy                           0.90     25000\n",
      "   macro avg       0.90      0.90      0.90     25000\n",
      "weighted avg       0.90      0.90      0.90     25000\n",
      "\n",
      "准确率: 0.89568\n",
      "AUC: 0.9476891583999999\n"
     ]
    },
    {
     "name": "stderr",
     "output_type": "stream",
     "text": [
      "Epoch 71/100: 100%|██████████| 250/250 [00:26<00:00,  9.45it/s, Loss=3.42e-5] \n"
     ]
    },
    {
     "name": "stdout",
     "output_type": "stream",
     "text": [
      "Epoch 71 Training Finished. Average Loss: 0.0001\n",
      "Epoch 71 Test Results:\n",
      "              precision    recall  f1-score   support\n",
      "\n",
      "         0.0       0.90      0.89      0.90     12500\n",
      "         1.0       0.89      0.90      0.90     12500\n",
      "\n",
      "    accuracy                           0.90     25000\n",
      "   macro avg       0.90      0.90      0.90     25000\n",
      "weighted avg       0.90      0.90      0.90     25000\n",
      "\n",
      "准确率: 0.89544\n",
      "AUC: 0.9475307488000001\n"
     ]
    },
    {
     "name": "stderr",
     "output_type": "stream",
     "text": [
      "Epoch 72/100: 100%|██████████| 250/250 [00:26<00:00,  9.26it/s, Loss=3.62e-5] \n"
     ]
    },
    {
     "name": "stdout",
     "output_type": "stream",
     "text": [
      "Epoch 72 Training Finished. Average Loss: 0.0001\n",
      "Epoch 72 Test Results:\n",
      "              precision    recall  f1-score   support\n",
      "\n",
      "         0.0       0.90      0.89      0.89     12500\n",
      "         1.0       0.89      0.90      0.90     12500\n",
      "\n",
      "    accuracy                           0.90     25000\n",
      "   macro avg       0.90      0.90      0.90     25000\n",
      "weighted avg       0.90      0.90      0.90     25000\n",
      "\n",
      "准确率: 0.89524\n",
      "AUC: 0.9476818848\n"
     ]
    },
    {
     "name": "stderr",
     "output_type": "stream",
     "text": [
      "Epoch 73/100: 100%|██████████| 250/250 [00:26<00:00,  9.44it/s, Loss=2.42e-5] \n"
     ]
    },
    {
     "name": "stdout",
     "output_type": "stream",
     "text": [
      "Epoch 73 Training Finished. Average Loss: 0.0001\n",
      "Epoch 73 Test Results:\n",
      "              precision    recall  f1-score   support\n",
      "\n",
      "         0.0       0.90      0.89      0.89     12500\n",
      "         1.0       0.89      0.90      0.90     12500\n",
      "\n",
      "    accuracy                           0.90     25000\n",
      "   macro avg       0.90      0.90      0.90     25000\n",
      "weighted avg       0.90      0.90      0.90     25000\n",
      "\n",
      "准确率: 0.89508\n",
      "AUC: 0.9476380704\n"
     ]
    },
    {
     "name": "stderr",
     "output_type": "stream",
     "text": [
      "Epoch 74/100: 100%|██████████| 250/250 [00:26<00:00,  9.43it/s, Loss=3.56e-5] \n"
     ]
    },
    {
     "name": "stdout",
     "output_type": "stream",
     "text": [
      "Epoch 74 Training Finished. Average Loss: 0.0000\n",
      "Epoch 74 Test Results:\n",
      "              precision    recall  f1-score   support\n",
      "\n",
      "         0.0       0.90      0.89      0.89     12500\n",
      "         1.0       0.89      0.90      0.90     12500\n",
      "\n",
      "    accuracy                           0.90     25000\n",
      "   macro avg       0.90      0.90      0.90     25000\n",
      "weighted avg       0.90      0.90      0.90     25000\n",
      "\n",
      "准确率: 0.89528\n",
      "AUC: 0.9474715456\n"
     ]
    },
    {
     "name": "stderr",
     "output_type": "stream",
     "text": [
      "Epoch 75/100: 100%|██████████| 250/250 [00:26<00:00,  9.38it/s, Loss=2.85e-5] \n"
     ]
    },
    {
     "name": "stdout",
     "output_type": "stream",
     "text": [
      "Epoch 75 Training Finished. Average Loss: 0.0000\n",
      "Epoch 75 Test Results:\n",
      "              precision    recall  f1-score   support\n",
      "\n",
      "         0.0       0.90      0.89      0.89     12500\n",
      "         1.0       0.89      0.90      0.89     12500\n",
      "\n",
      "    accuracy                           0.89     25000\n",
      "   macro avg       0.89      0.89      0.89     25000\n",
      "weighted avg       0.89      0.89      0.89     25000\n",
      "\n",
      "准确率: 0.89444\n",
      "AUC: 0.94770784\n"
     ]
    },
    {
     "name": "stderr",
     "output_type": "stream",
     "text": [
      "Epoch 76/100: 100%|██████████| 250/250 [00:26<00:00,  9.31it/s, Loss=1.62e-5]\n"
     ]
    },
    {
     "name": "stdout",
     "output_type": "stream",
     "text": [
      "Epoch 76 Training Finished. Average Loss: 0.0000\n",
      "Epoch 76 Test Results:\n",
      "              precision    recall  f1-score   support\n",
      "\n",
      "         0.0       0.90      0.89      0.89     12500\n",
      "         1.0       0.89      0.90      0.89     12500\n",
      "\n",
      "    accuracy                           0.89     25000\n",
      "   macro avg       0.89      0.89      0.89     25000\n",
      "weighted avg       0.89      0.89      0.89     25000\n",
      "\n",
      "准确率: 0.89448\n",
      "AUC: 0.9475572287999998\n"
     ]
    },
    {
     "name": "stderr",
     "output_type": "stream",
     "text": [
      "Epoch 77/100: 100%|██████████| 250/250 [00:26<00:00,  9.39it/s, Loss=1.66e-5] \n"
     ]
    },
    {
     "name": "stdout",
     "output_type": "stream",
     "text": [
      "Epoch 77 Training Finished. Average Loss: 0.0000\n",
      "Epoch 77 Test Results:\n",
      "              precision    recall  f1-score   support\n",
      "\n",
      "         0.0       0.89      0.89      0.89     12500\n",
      "         1.0       0.89      0.90      0.89     12500\n",
      "\n",
      "    accuracy                           0.89     25000\n",
      "   macro avg       0.89      0.89      0.89     25000\n",
      "weighted avg       0.89      0.89      0.89     25000\n",
      "\n",
      "准确率: 0.89416\n",
      "AUC: 0.9475318176\n"
     ]
    },
    {
     "name": "stderr",
     "output_type": "stream",
     "text": [
      "Epoch 78/100: 100%|██████████| 250/250 [00:27<00:00,  9.20it/s, Loss=1.36e-5] \n"
     ]
    },
    {
     "name": "stdout",
     "output_type": "stream",
     "text": [
      "Epoch 78 Training Finished. Average Loss: 0.0000\n",
      "Epoch 78 Test Results:\n",
      "              precision    recall  f1-score   support\n",
      "\n",
      "         0.0       0.89      0.89      0.89     12500\n",
      "         1.0       0.89      0.89      0.89     12500\n",
      "\n",
      "    accuracy                           0.89     25000\n",
      "   macro avg       0.89      0.89      0.89     25000\n",
      "weighted avg       0.89      0.89      0.89     25000\n",
      "\n",
      "准确率: 0.89384\n",
      "AUC: 0.9475610048\n"
     ]
    },
    {
     "name": "stderr",
     "output_type": "stream",
     "text": [
      "Epoch 79/100: 100%|██████████| 250/250 [00:26<00:00,  9.50it/s, Loss=1.44e-5] \n"
     ]
    },
    {
     "name": "stdout",
     "output_type": "stream",
     "text": [
      "Epoch 79 Training Finished. Average Loss: 0.0000\n",
      "Epoch 79 Test Results:\n",
      "              precision    recall  f1-score   support\n",
      "\n",
      "         0.0       0.89      0.89      0.89     12500\n",
      "         1.0       0.89      0.89      0.89     12500\n",
      "\n",
      "    accuracy                           0.89     25000\n",
      "   macro avg       0.89      0.89      0.89     25000\n",
      "weighted avg       0.89      0.89      0.89     25000\n",
      "\n",
      "准确率: 0.89372\n",
      "AUC: 0.9476349984\n"
     ]
    },
    {
     "name": "stderr",
     "output_type": "stream",
     "text": [
      "Epoch 80/100: 100%|██████████| 250/250 [00:26<00:00,  9.33it/s, Loss=1.09e-5] \n"
     ]
    },
    {
     "name": "stdout",
     "output_type": "stream",
     "text": [
      "Epoch 80 Training Finished. Average Loss: 0.0000\n",
      "Epoch 80 Test Results:\n",
      "              precision    recall  f1-score   support\n",
      "\n",
      "         0.0       0.89      0.89      0.89     12500\n",
      "         1.0       0.89      0.89      0.89     12500\n",
      "\n",
      "    accuracy                           0.89     25000\n",
      "   macro avg       0.89      0.89      0.89     25000\n",
      "weighted avg       0.89      0.89      0.89     25000\n",
      "\n",
      "准确率: 0.89368\n",
      "AUC: 0.9476798879999999\n"
     ]
    },
    {
     "name": "stderr",
     "output_type": "stream",
     "text": [
      "Epoch 81/100: 100%|██████████| 250/250 [00:26<00:00,  9.27it/s, Loss=1.05e-5] \n"
     ]
    },
    {
     "name": "stdout",
     "output_type": "stream",
     "text": [
      "Epoch 81 Training Finished. Average Loss: 0.0000\n",
      "Epoch 81 Test Results:\n",
      "              precision    recall  f1-score   support\n",
      "\n",
      "         0.0       0.90      0.89      0.89     12500\n",
      "         1.0       0.89      0.90      0.89     12500\n",
      "\n",
      "    accuracy                           0.89     25000\n",
      "   macro avg       0.89      0.89      0.89     25000\n",
      "weighted avg       0.89      0.89      0.89     25000\n",
      "\n",
      "准确率: 0.89352\n",
      "AUC: 0.9476331616\n"
     ]
    },
    {
     "name": "stderr",
     "output_type": "stream",
     "text": [
      "Epoch 82/100: 100%|██████████| 250/250 [00:27<00:00,  9.19it/s, Loss=1.01e-5] \n"
     ]
    },
    {
     "name": "stdout",
     "output_type": "stream",
     "text": [
      "Epoch 82 Training Finished. Average Loss: 0.0000\n",
      "Epoch 82 Test Results:\n",
      "              precision    recall  f1-score   support\n",
      "\n",
      "         0.0       0.89      0.89      0.89     12500\n",
      "         1.0       0.89      0.89      0.89     12500\n",
      "\n",
      "    accuracy                           0.89     25000\n",
      "   macro avg       0.89      0.89      0.89     25000\n",
      "weighted avg       0.89      0.89      0.89     25000\n",
      "\n",
      "准确率: 0.89352\n",
      "AUC: 0.9475666176\n"
     ]
    },
    {
     "name": "stderr",
     "output_type": "stream",
     "text": [
      "Epoch 83/100: 100%|██████████| 250/250 [00:27<00:00,  9.25it/s, Loss=6.03e-6] \n"
     ]
    },
    {
     "name": "stdout",
     "output_type": "stream",
     "text": [
      "Epoch 83 Training Finished. Average Loss: 0.0000\n",
      "Epoch 83 Test Results:\n",
      "              precision    recall  f1-score   support\n",
      "\n",
      "         0.0       0.90      0.89      0.89     12500\n",
      "         1.0       0.89      0.90      0.89     12500\n",
      "\n",
      "    accuracy                           0.89     25000\n",
      "   macro avg       0.89      0.89      0.89     25000\n",
      "weighted avg       0.89      0.89      0.89     25000\n",
      "\n",
      "准确率: 0.89336\n",
      "AUC: 0.947476512\n"
     ]
    },
    {
     "name": "stderr",
     "output_type": "stream",
     "text": [
      "Epoch 84/100: 100%|██████████| 250/250 [00:26<00:00,  9.41it/s, Loss=9.95e-6] \n"
     ]
    },
    {
     "name": "stdout",
     "output_type": "stream",
     "text": [
      "Epoch 84 Training Finished. Average Loss: 0.0000\n",
      "Epoch 84 Test Results:\n",
      "              precision    recall  f1-score   support\n",
      "\n",
      "         0.0       0.89      0.89      0.89     12500\n",
      "         1.0       0.89      0.89      0.89     12500\n",
      "\n",
      "    accuracy                           0.89     25000\n",
      "   macro avg       0.89      0.89      0.89     25000\n",
      "weighted avg       0.89      0.89      0.89     25000\n",
      "\n",
      "准确率: 0.89292\n",
      "AUC: 0.9475752352000001\n"
     ]
    },
    {
     "name": "stderr",
     "output_type": "stream",
     "text": [
      "Epoch 85/100: 100%|██████████| 250/250 [00:27<00:00,  9.17it/s, Loss=4.68e-6]\n"
     ]
    },
    {
     "name": "stdout",
     "output_type": "stream",
     "text": [
      "Epoch 85 Training Finished. Average Loss: 0.0000\n",
      "Epoch 85 Test Results:\n",
      "              precision    recall  f1-score   support\n",
      "\n",
      "         0.0       0.90      0.89      0.89     12500\n",
      "         1.0       0.89      0.90      0.89     12500\n",
      "\n",
      "    accuracy                           0.89     25000\n",
      "   macro avg       0.89      0.89      0.89     25000\n",
      "weighted avg       0.89      0.89      0.89     25000\n",
      "\n",
      "准确率: 0.89332\n",
      "AUC: 0.9475597536\n"
     ]
    },
    {
     "name": "stderr",
     "output_type": "stream",
     "text": [
      "Epoch 86/100: 100%|██████████| 250/250 [00:26<00:00,  9.32it/s, Loss=1e-5]   \n"
     ]
    },
    {
     "name": "stdout",
     "output_type": "stream",
     "text": [
      "Epoch 86 Training Finished. Average Loss: 0.0000\n",
      "Epoch 86 Test Results:\n",
      "              precision    recall  f1-score   support\n",
      "\n",
      "         0.0       0.89      0.89      0.89     12500\n",
      "         1.0       0.89      0.89      0.89     12500\n",
      "\n",
      "    accuracy                           0.89     25000\n",
      "   macro avg       0.89      0.89      0.89     25000\n",
      "weighted avg       0.89      0.89      0.89     25000\n",
      "\n",
      "准确率: 0.89332\n",
      "AUC: 0.9477428800000001\n"
     ]
    },
    {
     "name": "stderr",
     "output_type": "stream",
     "text": [
      "Epoch 87/100: 100%|██████████| 250/250 [00:27<00:00,  9.25it/s, Loss=4.3e-6] \n"
     ]
    },
    {
     "name": "stdout",
     "output_type": "stream",
     "text": [
      "Epoch 87 Training Finished. Average Loss: 0.0000\n",
      "Epoch 87 Test Results:\n",
      "              precision    recall  f1-score   support\n",
      "\n",
      "         0.0       0.90      0.89      0.89     12500\n",
      "         1.0       0.89      0.90      0.89     12500\n",
      "\n",
      "    accuracy                           0.89     25000\n",
      "   macro avg       0.89      0.89      0.89     25000\n",
      "weighted avg       0.89      0.89      0.89     25000\n",
      "\n",
      "准确率: 0.89292\n",
      "AUC: 0.9475448287999999\n"
     ]
    },
    {
     "name": "stderr",
     "output_type": "stream",
     "text": [
      "Epoch 88/100: 100%|██████████| 250/250 [00:26<00:00,  9.41it/s, Loss=6.5e-6] \n"
     ]
    },
    {
     "name": "stdout",
     "output_type": "stream",
     "text": [
      "Epoch 88 Training Finished. Average Loss: 0.0000\n",
      "Epoch 88 Test Results:\n",
      "              precision    recall  f1-score   support\n",
      "\n",
      "         0.0       0.90      0.89      0.89     12500\n",
      "         1.0       0.89      0.90      0.89     12500\n",
      "\n",
      "    accuracy                           0.89     25000\n",
      "   macro avg       0.89      0.89      0.89     25000\n",
      "weighted avg       0.89      0.89      0.89     25000\n",
      "\n",
      "准确率: 0.89332\n",
      "AUC: 0.9476263103999998\n"
     ]
    },
    {
     "name": "stderr",
     "output_type": "stream",
     "text": [
      "Epoch 89/100: 100%|██████████| 250/250 [00:26<00:00,  9.40it/s, Loss=3.5e-6] \n"
     ]
    },
    {
     "name": "stdout",
     "output_type": "stream",
     "text": [
      "Epoch 89 Training Finished. Average Loss: 0.0000\n",
      "Epoch 89 Test Results:\n",
      "              precision    recall  f1-score   support\n",
      "\n",
      "         0.0       0.89      0.89      0.89     12500\n",
      "         1.0       0.89      0.89      0.89     12500\n",
      "\n",
      "    accuracy                           0.89     25000\n",
      "   macro avg       0.89      0.89      0.89     25000\n",
      "weighted avg       0.89      0.89      0.89     25000\n",
      "\n",
      "准确率: 0.8928\n",
      "AUC: 0.9475017215999999\n"
     ]
    },
    {
     "name": "stderr",
     "output_type": "stream",
     "text": [
      "Epoch 90/100: 100%|██████████| 250/250 [00:26<00:00,  9.28it/s, Loss=2.25e-6]\n"
     ]
    },
    {
     "name": "stdout",
     "output_type": "stream",
     "text": [
      "Epoch 90 Training Finished. Average Loss: 0.0000\n",
      "Epoch 90 Test Results:\n",
      "              precision    recall  f1-score   support\n",
      "\n",
      "         0.0       0.89      0.89      0.89     12500\n",
      "         1.0       0.89      0.90      0.89     12500\n",
      "\n",
      "    accuracy                           0.89     25000\n",
      "   macro avg       0.89      0.89      0.89     25000\n",
      "weighted avg       0.89      0.89      0.89     25000\n",
      "\n",
      "准确率: 0.89316\n",
      "AUC: 0.9475488832000001\n"
     ]
    },
    {
     "name": "stderr",
     "output_type": "stream",
     "text": [
      "Epoch 91/100: 100%|██████████| 250/250 [00:26<00:00,  9.28it/s, Loss=1.78e-6]\n"
     ]
    },
    {
     "name": "stdout",
     "output_type": "stream",
     "text": [
      "Epoch 91 Training Finished. Average Loss: 0.0000\n",
      "Epoch 91 Test Results:\n",
      "              precision    recall  f1-score   support\n",
      "\n",
      "         0.0       0.89      0.89      0.89     12500\n",
      "         1.0       0.89      0.89      0.89     12500\n",
      "\n",
      "    accuracy                           0.89     25000\n",
      "   macro avg       0.89      0.89      0.89     25000\n",
      "weighted avg       0.89      0.89      0.89     25000\n",
      "\n",
      "准确率: 0.89272\n",
      "AUC: 0.9476338624\n"
     ]
    },
    {
     "name": "stderr",
     "output_type": "stream",
     "text": [
      "Epoch 92/100: 100%|██████████| 250/250 [00:27<00:00,  8.95it/s, Loss=4.59e-6]\n"
     ]
    },
    {
     "name": "stdout",
     "output_type": "stream",
     "text": [
      "Epoch 92 Training Finished. Average Loss: 0.0000\n",
      "Epoch 92 Test Results:\n",
      "              precision    recall  f1-score   support\n",
      "\n",
      "         0.0       0.89      0.89      0.89     12500\n",
      "         1.0       0.89      0.89      0.89     12500\n",
      "\n",
      "    accuracy                           0.89     25000\n",
      "   macro avg       0.89      0.89      0.89     25000\n",
      "weighted avg       0.89      0.89      0.89     25000\n",
      "\n",
      "准确率: 0.89268\n",
      "AUC: 0.9476016096\n"
     ]
    },
    {
     "name": "stderr",
     "output_type": "stream",
     "text": [
      "Epoch 93/100: 100%|██████████| 250/250 [00:26<00:00,  9.26it/s, Loss=1.2e-6] \n"
     ]
    },
    {
     "name": "stdout",
     "output_type": "stream",
     "text": [
      "Epoch 93 Training Finished. Average Loss: 0.0000\n",
      "Epoch 93 Test Results:\n",
      "              precision    recall  f1-score   support\n",
      "\n",
      "         0.0       0.89      0.89      0.89     12500\n",
      "         1.0       0.89      0.89      0.89     12500\n",
      "\n",
      "    accuracy                           0.89     25000\n",
      "   macro avg       0.89      0.89      0.89     25000\n",
      "weighted avg       0.89      0.89      0.89     25000\n",
      "\n",
      "准确率: 0.89248\n",
      "AUC: 0.9472951392000001\n"
     ]
    },
    {
     "name": "stderr",
     "output_type": "stream",
     "text": [
      "Epoch 94/100: 100%|██████████| 250/250 [00:35<00:00,  6.98it/s, Loss=1.23e-6]\n"
     ]
    },
    {
     "name": "stdout",
     "output_type": "stream",
     "text": [
      "Epoch 94 Training Finished. Average Loss: 0.0000\n",
      "Epoch 94 Test Results:\n",
      "              precision    recall  f1-score   support\n",
      "\n",
      "         0.0       0.89      0.89      0.89     12500\n",
      "         1.0       0.89      0.89      0.89     12500\n",
      "\n",
      "    accuracy                           0.89     25000\n",
      "   macro avg       0.89      0.89      0.89     25000\n",
      "weighted avg       0.89      0.89      0.89     25000\n",
      "\n",
      "准确率: 0.89224\n",
      "AUC: 0.9474047903999999\n"
     ]
    },
    {
     "name": "stderr",
     "output_type": "stream",
     "text": [
      "Epoch 95/100: 100%|██████████| 250/250 [00:27<00:00,  9.16it/s, Loss=0.0658] \n"
     ]
    },
    {
     "name": "stdout",
     "output_type": "stream",
     "text": [
      "Epoch 95 Training Finished. Average Loss: 0.0345\n",
      "Epoch 95 Test Results:\n",
      "              precision    recall  f1-score   support\n",
      "\n",
      "         0.0       0.93      0.83      0.88     12500\n",
      "         1.0       0.85      0.94      0.89     12500\n",
      "\n",
      "    accuracy                           0.88     25000\n",
      "   macro avg       0.89      0.88      0.88     25000\n",
      "weighted avg       0.89      0.88      0.88     25000\n",
      "\n",
      "准确率: 0.88344\n",
      "AUC: 0.9504840607999998\n"
     ]
    },
    {
     "name": "stderr",
     "output_type": "stream",
     "text": [
      "Epoch 96/100: 100%|██████████| 250/250 [00:27<00:00,  9.21it/s, Loss=0.00736] \n"
     ]
    },
    {
     "name": "stdout",
     "output_type": "stream",
     "text": [
      "Epoch 96 Training Finished. Average Loss: 0.0341\n",
      "Epoch 96 Test Results:\n",
      "              precision    recall  f1-score   support\n",
      "\n",
      "         0.0       0.88      0.92      0.90     12500\n",
      "         1.0       0.92      0.87      0.90     12500\n",
      "\n",
      "    accuracy                           0.90     25000\n",
      "   macro avg       0.90      0.90      0.90     25000\n",
      "weighted avg       0.90      0.90      0.90     25000\n",
      "\n",
      "准确率: 0.89784\n",
      "AUC: 0.9537196928\n"
     ]
    },
    {
     "name": "stderr",
     "output_type": "stream",
     "text": [
      "Epoch 97/100: 100%|██████████| 250/250 [00:26<00:00,  9.31it/s, Loss=0.000734]\n"
     ]
    },
    {
     "name": "stdout",
     "output_type": "stream",
     "text": [
      "Epoch 97 Training Finished. Average Loss: 0.0047\n",
      "Epoch 97 Test Results:\n",
      "              precision    recall  f1-score   support\n",
      "\n",
      "         0.0       0.88      0.92      0.90     12500\n",
      "         1.0       0.91      0.87      0.89     12500\n",
      "\n",
      "    accuracy                           0.89     25000\n",
      "   macro avg       0.89      0.89      0.89     25000\n",
      "weighted avg       0.89      0.89      0.89     25000\n",
      "\n",
      "准确率: 0.8938\n",
      "AUC: 0.9521352223999999\n"
     ]
    },
    {
     "name": "stderr",
     "output_type": "stream",
     "text": [
      "Epoch 98/100: 100%|██████████| 250/250 [00:38<00:00,  6.51it/s, Loss=0.012]   \n"
     ]
    },
    {
     "name": "stdout",
     "output_type": "stream",
     "text": [
      "Epoch 98 Training Finished. Average Loss: 0.0028\n",
      "Epoch 98 Test Results:\n",
      "              precision    recall  f1-score   support\n",
      "\n",
      "         0.0       0.89      0.91      0.90     12500\n",
      "         1.0       0.90      0.88      0.89     12500\n",
      "\n",
      "    accuracy                           0.90     25000\n",
      "   macro avg       0.90      0.90      0.90     25000\n",
      "weighted avg       0.90      0.90      0.90     25000\n",
      "\n",
      "准确率: 0.8952\n",
      "AUC: 0.9509780287999999\n"
     ]
    },
    {
     "name": "stderr",
     "output_type": "stream",
     "text": [
      "Epoch 99/100: 100%|██████████| 250/250 [00:27<00:00,  9.06it/s, Loss=0.034]   \n"
     ]
    },
    {
     "name": "stdout",
     "output_type": "stream",
     "text": [
      "Epoch 99 Training Finished. Average Loss: 0.0205\n",
      "Epoch 99 Test Results:\n",
      "              precision    recall  f1-score   support\n",
      "\n",
      "         0.0       0.85      0.93      0.89     12500\n",
      "         1.0       0.92      0.83      0.88     12500\n",
      "\n",
      "    accuracy                           0.88     25000\n",
      "   macro avg       0.89      0.88      0.88     25000\n",
      "weighted avg       0.89      0.88      0.88     25000\n",
      "\n",
      "准确率: 0.88312\n",
      "AUC: 0.951786256\n"
     ]
    },
    {
     "name": "stderr",
     "output_type": "stream",
     "text": [
      "Epoch 100/100: 100%|██████████| 250/250 [00:27<00:00,  9.19it/s, Loss=0.0109]  \n"
     ]
    },
    {
     "name": "stdout",
     "output_type": "stream",
     "text": [
      "Epoch 100 Training Finished. Average Loss: 0.0060\n",
      "Epoch 100 Test Results:\n",
      "              precision    recall  f1-score   support\n",
      "\n",
      "         0.0       0.88      0.91      0.90     12500\n",
      "         1.0       0.91      0.88      0.89     12500\n",
      "\n",
      "    accuracy                           0.90     25000\n",
      "   macro avg       0.90      0.90      0.89     25000\n",
      "weighted avg       0.90      0.90      0.89     25000\n",
      "\n",
      "准确率: 0.895\n",
      "AUC: 0.9524031136\n"
     ]
    }
   ],
   "source": [
    "# 训练过程中的记录\n",
    "loss_history = []\n",
    "precision_history = []\n",
    "recall_history = []\n",
    "f1_history = []\n",
    "\n",
    "# 将模型移动到GPU\n",
    "lstm.to(device)\n",
    "\n",
    "# 迭代训练\n",
    "for epoch in range(num_epoches):\n",
    "    total_loss = 0  # 每个epoch的总损失\n",
    "    \n",
    "    # 为每个 epoch 添加进度条\n",
    "    with tqdm(total=len(train_loader), desc=f\"Epoch {epoch+1}/{num_epoches}\") as pbar:\n",
    "        for i, (x, labels, lengths) in enumerate(train_loader):\n",
    "            x = x.to(device)\n",
    "            labels = labels.to(device)\n",
    "            outputs = lstm(x, lengths)          # 前向传播\n",
    "            logits = outputs.view(-1)           # 将输出展平\n",
    "            loss = criterion(logits, labels)    # loss计算\n",
    "            total_loss += loss.item()           # 累加损失\n",
    "            optimizer.zero_grad()               # 梯度清零\n",
    "            loss.backward(retain_graph=True)    # 反向传播，计算梯度\n",
    "            optimizer.step()                    # 梯度更新\n",
    "\n",
    "            # 更新进度条\n",
    "            pbar.update(1)\n",
    "            pbar.set_postfix({\"Loss\": loss.item()})  # 显示当前 batch 的损失\n",
    "    \n",
    "    # 每个epoch结束时输出该epoch的Avg-Loss\n",
    "    avg_loss = total_loss / len(train_loader)\n",
    "    print(f\"Epoch {epoch+1} Training Finished. Average Loss: {avg_loss:.4f}\")\n",
    "    loss_history.append(avg_loss)  # 记录每个epoch的平均损失\n",
    "\n",
    "    # 测试\n",
    "    print(f\"Epoch {epoch+1} Test Results:\")\n",
    "    precision, recall, f1 = test()\n",
    "    \n",
    "    # 记录Precision、Recall、F1-Score\n",
    "    precision_history.append(precision)\n",
    "    recall_history.append(recall)\n",
    "    f1_history.append(f1)"
   ]
  },
  {
   "cell_type": "code",
   "execution_count": null,
   "metadata": {},
   "outputs": [
    {
     "name": "stdout",
     "output_type": "stream",
     "text": [
      "Saved final model:  ./model/lstm_final.model\n"
     ]
    }
   ],
   "source": [
    "# 训练结束后保存最终模型\n",
    "model_dir = \"./model\"\n",
    "os.makedirs(model_dir, exist_ok=True) # 创建模型保存目录\n",
    "model_path = os.path.join(model_dir, \"lstm_final.model\") # 模型保存路径\n",
    "torch.save(lstm, model_path) # 保存模型\n",
    "print(\"Saved final model: \", model_path)"
   ]
  },
  {
   "cell_type": "code",
   "execution_count": 103,
   "metadata": {},
   "outputs": [
    {
     "data": {
      "image/png": "[encoded data removed]",
      "text/plain": [
       "<Figure size 1000x500 with 1 Axes>"
      ]
     },
     "metadata": {},
     "output_type": "display_data"
    }
   ],
   "source": [
    "# 绘制训练过程中的损失曲线\n",
    "plt.figure(figsize=(10, 5))\n",
    "plt.plot(range(1, len(loss_history) + 1), loss_history, label='Training Loss')\n",
    "plt.title('Training Loss Over Epochs')\n",
    "plt.xlabel('Epoch')\n",
    "plt.ylabel('Loss')\n",
    "plt.legend()\n",
    "\n",
    "# 设置横坐标的刻度为\n",
    "num_epochs = len(loss_history)\n",
    "xticks = range(4, num_epochs + 1, 4)  # 从 2 开始，每隔 2 个 epoch 设置一个刻度\n",
    "plt.xticks(xticks)\n",
    "\n",
    "plt.show()"
   ]
  },
  {
   "cell_type": "code",
   "execution_count": 104,
   "metadata": {},
   "outputs": [
    {
     "data": {
      "image/png": "[encoded data removed]",
      "text/plain": [
       "<Figure size 1000x500 with 1 Axes>"
      ]
     },
     "metadata": {},
     "output_type": "display_data"
    }
   ],
   "source": [
    "# 绘制 Precision, Recall, F1-Score 的变动曲线\n",
    "plt.figure(figsize=(10, 5))\n",
    "plt.plot(range(1, len(precision_history) + 1), precision_history, label='Precision')\n",
    "plt.plot(range(1, len(recall_history) + 1), recall_history, label='Recall')\n",
    "plt.plot(range(1, len(f1_history) + 1), f1_history, label='F1-Score')\n",
    "plt.title('Precision, Recall, F1-Score Over Epochs')\n",
    "plt.xlabel('Epoch')\n",
    "plt.ylabel('Score')\n",
    "plt.legend()\n",
    "\n",
    "# 设置横坐标的刻度为\n",
    "num_epochs = len(precision_history)\n",
    "xticks = range(4, num_epochs + 1, 4)  # 从 2 开始，每隔 2 个 epoch 设置一个刻度\n",
    "plt.xticks(xticks)\n",
    "\n",
    "plt.show()"
   ]
  },
  {
   "cell_type": "markdown",
   "metadata": {},
   "source": [
    "### 8. 特殊案例分析"
   ]
  },
  {
   "cell_type": "code",
   "execution_count": 116,
   "metadata": {},
   "outputs": [
    {
     "name": "stderr",
     "output_type": "stream",
     "text": [
      "/tmp/ipykernel_29296/3723413494.py:1: FutureWarning: You are using `torch.load` with `weights_only=False` (the current default value), which uses the default pickle module implicitly. It is possible to construct malicious pickle data which will execute arbitrary code during unpickling (See https://github.com/pytorch/pytorch/blob/main/SECURITY.md#untrusted-models for more details). In a future release, the default value for `weights_only` will be flipped to `True`. This limits the functions that could be executed during unpickling. Arbitrary objects will no longer be allowed to be loaded via this mode unless they are explicitly allowlisted by the user via `torch.serialization.add_safe_globals`. We recommend you start setting `weights_only=True` for any use case where you don't have full control of the loaded file. Please open an issue on GitHub for any issues related to this experimental feature.\n",
      "  net = torch.load(\"./model/lstm_final.model\")    # 训练所得最后模型\n"
     ]
    }
   ],
   "source": [
    "net = torch.load(\"./model/lstm_final.model\")    # 训练所得最后模型"
   ]
  },
  {
   "cell_type": "code",
   "execution_count": null,
   "metadata": {},
   "outputs": [],
   "source": [
    "#封装函数，用于预测新的文本\n",
    "def predict_sentiment(strs):\n",
    "    data = []\n",
    "    for s in strs:\n",
    "        vectors = []\n",
    "        for w in processing(s).split(\" \"):\n",
    "            if w in word2vec.wv.key_to_index:\n",
    "                vectors.append(word2vec.wv[w])   # 将每个词替换为对应的词向量\n",
    "        vectors = torch.Tensor(vectors) # 转换为张量\n",
    "        data.append(vectors) # 添加到数据集中\n",
    "    x, _, lengths = collate_fn(list(zip(data, [-1] * len(strs)))) # 用collate_fn处理数据\n",
    "    with torch.no_grad():\n",
    "        x = x.to(device) # 将数据移动到 GPU/CPU\n",
    "        outputs = lstm(x, lengths)          # 前向传播\n",
    "        outputs = outputs.view(-1)          # 将输出展平\n",
    "    return outputs # 返回预测结果"
   ]
  },
  {
   "cell_type": "markdown",
   "metadata": {},
   "source": [
    "以下测试案例由Deepseek Chat生成\n",
    "- **模棱两可的评论**："
   ]
  },
  {
   "cell_type": "code",
   "execution_count": 118,
   "metadata": {},
   "outputs": [
    {
     "data": {
      "text/plain": [
       "tensor([0.0156], device='cuda:0')"
      ]
     },
     "execution_count": 118,
     "metadata": {},
     "output_type": "execute_result"
    }
   ],
   "source": [
    "predict_sentiment([\"The movie had its moments, but overall, it left me feeling indifferent.\"])"
   ]
  },
  {
   "cell_type": "markdown",
   "metadata": {},
   "source": [
    "- **正面和负面情感混合的评论**："
   ]
  },
  {
   "cell_type": "code",
   "execution_count": 119,
   "metadata": {},
   "outputs": [
    {
     "data": {
      "text/plain": [
       "tensor([0.0024], device='cuda:0')"
      ]
     },
     "execution_count": 119,
     "metadata": {},
     "output_type": "execute_result"
    }
   ],
   "source": [
    "predict_sentiment([\"The acting was superb, but the plot was a bit predictable.\"])"
   ]
  },
  {
   "cell_type": "code",
   "execution_count": 120,
   "metadata": {},
   "outputs": [
    {
     "data": {
      "text/plain": [
       "tensor([0.0003], device='cuda:0')"
      ]
     },
     "execution_count": 120,
     "metadata": {},
     "output_type": "execute_result"
    }
   ],
   "source": [
    "predict_sentiment([\"The soundtrack was amazing, but the pacing was painfully slow.\"])"
   ]
  },
  {
   "cell_type": "code",
   "execution_count": 121,
   "metadata": {},
   "outputs": [
    {
     "data": {
      "text/plain": [
       "tensor([0.1069], device='cuda:0')"
      ]
     },
     "execution_count": 121,
     "metadata": {},
     "output_type": "execute_result"
    }
   ],
   "source": [
    "predict_sentiment([\"The cinematography was breathtaking, but the story was a bit underwhelming.\"])"
   ]
  },
  {
   "cell_type": "markdown",
   "metadata": {},
   "source": [
    "- **中立但带有情感色彩的评论**："
   ]
  },
  {
   "cell_type": "code",
   "execution_count": 122,
   "metadata": {},
   "outputs": [
    {
     "data": {
      "text/plain": [
       "tensor([0.0083], device='cuda:0')"
      ]
     },
     "execution_count": 122,
     "metadata": {},
     "output_type": "execute_result"
    }
   ],
   "source": [
    "predict_sentiment([\"I can't say I loved it, but I also can't say I hated it.\"])"
   ]
  },
  {
   "cell_type": "code",
   "execution_count": 123,
   "metadata": {},
   "outputs": [
    {
     "data": {
      "text/plain": [
       "tensor([3.5420e-05], device='cuda:0')"
      ]
     },
     "execution_count": 123,
     "metadata": {},
     "output_type": "execute_result"
    }
   ],
   "source": [
    "predict_sentiment([\"It wasn't the worst movie I've ever seen, but it wasn't the best either.\"])"
   ]
  },
  {
   "cell_type": "markdown",
   "metadata": {},
   "source": [
    "- **复杂情感的评论**："
   ]
  },
  {
   "cell_type": "code",
   "execution_count": 124,
   "metadata": {},
   "outputs": [
    {
     "data": {
      "text/plain": [
       "tensor([0.9999], device='cuda:0')"
      ]
     },
     "execution_count": 124,
     "metadata": {},
     "output_type": "execute_result"
    }
   ],
   "source": [
    "predict_sentiment([\"The movie was visually stunning, but the dialogue felt forced at times.\"])"
   ]
  },
  {
   "cell_type": "code",
   "execution_count": 125,
   "metadata": {},
   "outputs": [
    {
     "data": {
      "text/plain": [
       "tensor([3.3073e-06], device='cuda:0')"
      ]
     },
     "execution_count": 125,
     "metadata": {},
     "output_type": "execute_result"
    }
   ],
   "source": [
    "predict_sentiment([\"The movie had some great moments, but it also had some really disappointing ones.\"])"
   ]
  },
  {
   "cell_type": "markdown",
   "metadata": {},
   "source": [
    "- **带有讽刺意味的评论**："
   ]
  },
  {
   "cell_type": "code",
   "execution_count": 126,
   "metadata": {},
   "outputs": [
    {
     "data": {
      "text/plain": [
       "tensor([0.9763], device='cuda:0')"
      ]
     },
     "execution_count": 126,
     "metadata": {},
     "output_type": "execute_result"
    }
   ],
   "source": [
    "predict_sentiment([\"A masterpiece of mediocrity.\"])"
   ]
  },
  {
   "cell_type": "code",
   "execution_count": 127,
   "metadata": {},
   "outputs": [
    {
     "data": {
      "text/plain": [
       "tensor([0.0001], device='cuda:0')"
      ]
     },
     "execution_count": 127,
     "metadata": {},
     "output_type": "execute_result"
    }
   ],
   "source": [
    "predict_sentiment([\"A film that manages to be both boring and exciting at the same time.\"])"
   ]
  }
 ],
 "metadata": {
  "kernelspec": {
   "display_name": "data2024",
   "language": "python",
   "name": "python3"
  },
  "language_info": {
   "codemirror_mode": {
    "name": "ipython",
    "version": 3
   },
   "file_extension": ".py",
   "mimetype": "text/x-python",
   "name": "python",
   "nbconvert_exporter": "python",
   "pygments_lexer": "ipython3",
   "version": "3.12.7"
  }
 },
 "nbformat": 4,
 "nbformat_minor": 2
}
